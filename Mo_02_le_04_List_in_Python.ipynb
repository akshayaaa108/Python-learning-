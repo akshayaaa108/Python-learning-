{
  "nbformat": 4,
  "nbformat_minor": 0,
  "metadata": {
    "colab": {
      "provenance": [],
      "authorship_tag": "ABX9TyO2yf7wWWaxTuJ2lMRbcWfp",
      "include_colab_link": true
    },
    "kernelspec": {
      "name": "python3",
      "display_name": "Python 3"
    },
    "language_info": {
      "name": "python"
    }
  },
  "cells": [
    {
      "cell_type": "markdown",
      "metadata": {
        "id": "view-in-github",
        "colab_type": "text"
      },
      "source": [
        "<a href=\"https://colab.research.google.com/github/akshayaaa108/Python-learning-/blob/main/Mo_02_le_04_List_in_Python.ipynb\" target=\"_parent\"><img src=\"https://colab.research.google.com/assets/colab-badge.svg\" alt=\"Open In Colab\"/></a>"
      ]
    },
    {
      "cell_type": "markdown",
      "source": [
        "**LIST in python\n",
        "**"
      ],
      "metadata": {
        "id": "s-clNKK4cBcK"
      }
    },
    {
      "cell_type": "markdown",
      "source": [
        "Creating list"
      ],
      "metadata": {
        "id": "Rv-NDr6VcLY0"
      }
    },
    {
      "cell_type": "code",
      "source": [
        "emptylist = []\n",
        "print(emptylist)\n",
        "print(type(emptylist))\n",
        "print(len(emptylist))"
      ],
      "metadata": {
        "colab": {
          "base_uri": "https://localhost:8080/"
        },
        "id": "QHL0PtzRcA9R",
        "outputId": "7ada9329-6533-440f-8fc8-1329521d34e3"
      },
      "execution_count": null,
      "outputs": [
        {
          "output_type": "stream",
          "name": "stdout",
          "text": [
            "[]\n",
            "<class 'list'>\n",
            "0\n"
          ]
        }
      ]
    },
    {
      "cell_type": "code",
      "source": [
        "number = [1,2,3,4]\n",
        "print(number)\n",
        "print(type(number))\n",
        "print(len(number))\n"
      ],
      "metadata": {
        "colab": {
          "base_uri": "https://localhost:8080/"
        },
        "id": "iDW0KtcEcC52",
        "outputId": "6acbf3d6-e3c5-428d-af22-b0a3fb99d005"
      },
      "execution_count": null,
      "outputs": [
        {
          "output_type": "stream",
          "name": "stdout",
          "text": [
            "[1, 2, 3, 4]\n",
            "<class 'list'>\n",
            "4\n"
          ]
        }
      ]
    },
    {
      "cell_type": "markdown",
      "source": [],
      "metadata": {
        "id": "0FKVyzN-cEkG"
      }
    },
    {
      "cell_type": "code",
      "source": [
        "mixed = [1,3.4,True,\"HElool\",2+3j]\n",
        "print(mixed)\n",
        "print(type(mixed))\n",
        "print(len(mixed))\n"
      ],
      "metadata": {
        "colab": {
          "base_uri": "https://localhost:8080/"
        },
        "id": "Fl1hVAWccD7N",
        "outputId": "9a84443f-1586-4677-947b-db7b5c4de278"
      },
      "execution_count": null,
      "outputs": [
        {
          "output_type": "stream",
          "name": "stdout",
          "text": [
            "[1, 3.4, True, 'HElool', (2+3j)]\n",
            "<class 'list'>\n",
            "5\n"
          ]
        }
      ]
    },
    {
      "cell_type": "markdown",
      "source": [
        "list() constructor\n"
      ],
      "metadata": {
        "id": "zYoNZKJ1dDE9"
      }
    },
    {
      "cell_type": "code",
      "source": [
        "empty_list = list()\n",
        "print(empty_list)\n",
        "chars = list(\"GATE\")  #here you give any iterable.\n",
        "print(chars)"
      ],
      "metadata": {
        "colab": {
          "base_uri": "https://localhost:8080/"
        },
        "id": "YNxc4HyidHYL",
        "outputId": "f17b460e-38ad-4fce-a4fe-141a064ea11d"
      },
      "execution_count": null,
      "outputs": [
        {
          "output_type": "stream",
          "name": "stdout",
          "text": [
            "[]\n",
            "['G', 'A', 'T', 'E']\n"
          ]
        }
      ]
    },
    {
      "cell_type": "markdown",
      "source": [
        "INdexing and slicing\n"
      ],
      "metadata": {
        "id": "wc5oa2uUdCRp"
      }
    },
    {
      "cell_type": "markdown",
      "source": [
        "Accessing and slicing is same as the string in python"
      ],
      "metadata": {
        "id": "im3yDfRldiOH"
      }
    },
    {
      "cell_type": "code",
      "source": [
        "lis = [1,2,3,4,5]\n",
        "print(lis[1])\n",
        "print(lis[-3])\n",
        "print(lis[::2])\n",
        "print(id(lis[::2]))\n",
        "print(id(lis))\n",
        "lis[0]=45\n",
        "print(id(lis))"
      ],
      "metadata": {
        "colab": {
          "base_uri": "https://localhost:8080/"
        },
        "id": "5Qo7n1fwdB3m",
        "outputId": "149a7de2-5ada-4d7f-83dd-6bfed96031e2"
      },
      "execution_count": null,
      "outputs": [
        {
          "output_type": "stream",
          "name": "stdout",
          "text": [
            "2\n",
            "3\n",
            "[1, 3, 5]\n",
            "136134317565632\n",
            "136134315333632\n",
            "136134315333632\n"
          ]
        }
      ]
    },
    {
      "cell_type": "markdown",
      "source": [
        "mathematical operations\n"
      ],
      "metadata": {
        "id": "6FOzWaTRsuzI"
      }
    },
    {
      "cell_type": "code",
      "source": [
        "print([1,2,3,4]+[5,6,7,8])\n",
        "print([1,2,3]*3)\n",
        "print('b' in ['a','ab','c','d'])\n",
        "print('b' not in ['a','ab','c','d'])"
      ],
      "metadata": {
        "colab": {
          "base_uri": "https://localhost:8080/"
        },
        "id": "s9Om-OKLs87c",
        "outputId": "51a6cbfe-e5b6-40d4-be12-97c555d04277"
      },
      "execution_count": null,
      "outputs": [
        {
          "output_type": "stream",
          "name": "stdout",
          "text": [
            "[1, 2, 3, 4, 5, 6, 7, 8]\n",
            "[1, 2, 3, 1, 2, 3, 1, 2, 3]\n",
            "False\n",
            "True\n"
          ]
        }
      ]
    },
    {
      "cell_type": "code",
      "source": [
        "print(len([1,2,3,3,45,56]))\n",
        "print(max([2,3,5,7,8,9,10]))\n",
        "print(min(['a','b','c']))\n",
        "print(sum([2,3,5,7,8,9,10]))"
      ],
      "metadata": {
        "colab": {
          "base_uri": "https://localhost:8080/"
        },
        "id": "TW84hT_-tsVd",
        "outputId": "c81be3e9-a735-404f-a171-1fa56623eec7"
      },
      "execution_count": null,
      "outputs": [
        {
          "output_type": "stream",
          "name": "stdout",
          "text": [
            "6\n",
            "10\n",
            "a\n",
            "44\n"
          ]
        }
      ]
    },
    {
      "cell_type": "markdown",
      "source": [
        "Adding element to list"
      ],
      "metadata": {
        "id": "L3W-2UF2uXnr"
      }
    },
    {
      "cell_type": "code",
      "source": [
        "lst = [1,2,3]\n",
        "lst.append(4)\n",
        "print(lst)"
      ],
      "metadata": {
        "colab": {
          "base_uri": "https://localhost:8080/"
        },
        "id": "qTuSY273ualm",
        "outputId": "9e64fa5a-d547-416b-88ec-2b1fed5c1425"
      },
      "execution_count": null,
      "outputs": [
        {
          "output_type": "stream",
          "name": "stdout",
          "text": [
            "[1, 2, 3, 4]\n"
          ]
        }
      ]
    },
    {
      "cell_type": "code",
      "source": [
        "lst = [1,2,3]\n",
        "lst.insert(1,199)\n",
        "print(lst)"
      ],
      "metadata": {
        "colab": {
          "base_uri": "https://localhost:8080/"
        },
        "id": "56MiNA2suoQq",
        "outputId": "f91a43eb-2500-44d2-b2e2-4a23824fd151"
      },
      "execution_count": null,
      "outputs": [
        {
          "output_type": "stream",
          "name": "stdout",
          "text": [
            "[1, 199, 2, 3]\n"
          ]
        }
      ]
    },
    {
      "cell_type": "code",
      "source": [
        "lst = [1,2,3]\n",
        "lst.extend([4,5,6])\n",
        "print(lst)"
      ],
      "metadata": {
        "colab": {
          "base_uri": "https://localhost:8080/"
        },
        "id": "evrsHNSvuwok",
        "outputId": "35362c05-f728-45ab-ce6b-d8175787b856"
      },
      "execution_count": null,
      "outputs": [
        {
          "output_type": "stream",
          "name": "stdout",
          "text": [
            "[1, 2, 3, 4, 5, 6]\n"
          ]
        }
      ]
    },
    {
      "cell_type": "code",
      "source": [
        "lst = [1,2,3]\n",
        "lst.append([4,5,6])\n",
        "print(lst)"
      ],
      "metadata": {
        "colab": {
          "base_uri": "https://localhost:8080/"
        },
        "id": "PtjXCi8mu8DG",
        "outputId": "9981b1fe-2e27-490b-9a7c-aabf76649048"
      },
      "execution_count": null,
      "outputs": [
        {
          "output_type": "stream",
          "name": "stdout",
          "text": [
            "[1, 2, 3, [4, 5, 6]]\n"
          ]
        }
      ]
    },
    {
      "cell_type": "markdown",
      "source": [
        "Removing elements from a list"
      ],
      "metadata": {
        "id": "rUmzrjkAdBId"
      }
    },
    {
      "cell_type": "code",
      "source": [
        "lst = [1,2,3,4,5]\n",
        "lst.pop()\n",
        "print(lst)"
      ],
      "metadata": {
        "colab": {
          "base_uri": "https://localhost:8080/"
        },
        "id": "l0rJLX5UvHhA",
        "outputId": "9e6ee09c-7337-4672-e9c7-47eab54897b9"
      },
      "execution_count": null,
      "outputs": [
        {
          "output_type": "stream",
          "name": "stdout",
          "text": [
            "[1, 2, 3, 4]\n"
          ]
        }
      ]
    },
    {
      "cell_type": "code",
      "source": [
        "lst = ['a','b','c','d']\n",
        "lst.remove('b')\n",
        "print(lst)"
      ],
      "metadata": {
        "colab": {
          "base_uri": "https://localhost:8080/"
        },
        "id": "wP93oJmIvnZ3",
        "outputId": "3ec078a4-862f-4bf2-b879-e38a779eff84"
      },
      "execution_count": null,
      "outputs": [
        {
          "output_type": "stream",
          "name": "stdout",
          "text": [
            "['a', 'c', 'd']\n"
          ]
        }
      ]
    },
    {
      "cell_type": "code",
      "source": [
        "lst = ['a','b','c','d']\n",
        "del(lst[1])\n",
        "print(lst)"
      ],
      "metadata": {
        "colab": {
          "base_uri": "https://localhost:8080/"
        },
        "id": "FR_kHrX0vzOC",
        "outputId": "782c731f-646b-4793-db8e-22504eb4226d"
      },
      "execution_count": null,
      "outputs": [
        {
          "output_type": "stream",
          "name": "stdout",
          "text": [
            "['a', 'c', 'd']\n"
          ]
        }
      ]
    },
    {
      "cell_type": "code",
      "source": [
        "lst = ['a','b','c','d']\n",
        "del(lst[1:3])\n",
        "print(lst)"
      ],
      "metadata": {
        "colab": {
          "base_uri": "https://localhost:8080/"
        },
        "id": "gpFoTxQLwLof",
        "outputId": "99cb216e-53a3-4a95-85b9-f7ff3470a443"
      },
      "execution_count": null,
      "outputs": [
        {
          "output_type": "stream",
          "name": "stdout",
          "text": [
            "['a', 'd']\n"
          ]
        }
      ]
    },
    {
      "cell_type": "code",
      "source": [
        "lst = ['a','b','c','d']\n",
        "del(lst)\n",
        "print(lst)"
      ],
      "metadata": {
        "colab": {
          "base_uri": "https://localhost:8080/",
          "height": 176
        },
        "id": "8xO2UQw3wOrA",
        "outputId": "bbd72a22-fe03-434b-a9ca-a54dfe32e7f3"
      },
      "execution_count": null,
      "outputs": [
        {
          "output_type": "error",
          "ename": "NameError",
          "evalue": "name 'lst' is not defined",
          "traceback": [
            "\u001b[0;31m---------------------------------------------------------------------------\u001b[0m",
            "\u001b[0;31mNameError\u001b[0m                                 Traceback (most recent call last)",
            "\u001b[0;32m/tmp/ipython-input-988179021.py\u001b[0m in \u001b[0;36m<cell line: 0>\u001b[0;34m()\u001b[0m\n\u001b[1;32m      1\u001b[0m \u001b[0mlst\u001b[0m \u001b[0;34m=\u001b[0m \u001b[0;34m[\u001b[0m\u001b[0;34m'a'\u001b[0m\u001b[0;34m,\u001b[0m\u001b[0;34m'b'\u001b[0m\u001b[0;34m,\u001b[0m\u001b[0;34m'c'\u001b[0m\u001b[0;34m,\u001b[0m\u001b[0;34m'd'\u001b[0m\u001b[0;34m]\u001b[0m\u001b[0;34m\u001b[0m\u001b[0;34m\u001b[0m\u001b[0m\n\u001b[1;32m      2\u001b[0m \u001b[0;32mdel\u001b[0m\u001b[0;34m(\u001b[0m\u001b[0mlst\u001b[0m\u001b[0;34m)\u001b[0m\u001b[0;34m\u001b[0m\u001b[0;34m\u001b[0m\u001b[0m\n\u001b[0;32m----> 3\u001b[0;31m \u001b[0mprint\u001b[0m\u001b[0;34m(\u001b[0m\u001b[0mlst\u001b[0m\u001b[0;34m)\u001b[0m\u001b[0;34m\u001b[0m\u001b[0;34m\u001b[0m\u001b[0m\n\u001b[0m",
            "\u001b[0;31mNameError\u001b[0m: name 'lst' is not defined"
          ]
        }
      ]
    },
    {
      "cell_type": "markdown",
      "source": [],
      "metadata": {
        "id": "vXu4ffAEc_id"
      }
    },
    {
      "cell_type": "code",
      "source": [
        "lst = [1,2,3,4,5]\n",
        "lst.pop(2)\n",
        "print(lst)"
      ],
      "metadata": {
        "colab": {
          "base_uri": "https://localhost:8080/"
        },
        "id": "ybBTWjTtdAeS",
        "outputId": "e467cd0c-db95-4deb-d964-3b0e6f858b2e"
      },
      "execution_count": null,
      "outputs": [
        {
          "output_type": "stream",
          "name": "stdout",
          "text": [
            "[1, 2, 4, 5]\n"
          ]
        }
      ]
    },
    {
      "cell_type": "code",
      "source": [
        "lst = [1,2,3,4,5]\n",
        "lst.clear()\n",
        "print(lst)"
      ],
      "metadata": {
        "colab": {
          "base_uri": "https://localhost:8080/"
        },
        "id": "h0736ZuvwagN",
        "outputId": "79592f3b-3fe2-45e2-c5e0-dd5c3267eee1"
      },
      "execution_count": null,
      "outputs": [
        {
          "output_type": "stream",
          "name": "stdout",
          "text": [
            "[]\n"
          ]
        }
      ]
    },
    {
      "cell_type": "markdown",
      "source": [
        "Searching and Counting in list\n"
      ],
      "metadata": {
        "id": "CK3-sbiQwZvo"
      }
    },
    {
      "cell_type": "code",
      "source": [
        "lst = ['a',2,'c',4.0,2+3j]\n",
        "print(lst.index('c'))\n",
        "print(lst.index(4))\n",
        "print(lst.index(2+3j))"
      ],
      "metadata": {
        "colab": {
          "base_uri": "https://localhost:8080/"
        },
        "id": "Aqqa148Kwix7",
        "outputId": "aacbdacf-8ac6-47a6-8a6d-5f4d3cfe9f1c"
      },
      "execution_count": null,
      "outputs": [
        {
          "output_type": "stream",
          "name": "stdout",
          "text": [
            "2\n",
            "3\n",
            "4\n"
          ]
        }
      ]
    },
    {
      "cell_type": "code",
      "source": [
        "lst = ['a',2,'c',4.0,2+3j,'a']\n",
        "print(lst.count('a'))"
      ],
      "metadata": {
        "colab": {
          "base_uri": "https://localhost:8080/"
        },
        "id": "F8Dr4LXxxM7K",
        "outputId": "04b4bb8f-437c-4351-b2b8-0fe0c0a28943"
      },
      "execution_count": null,
      "outputs": [
        {
          "output_type": "stream",
          "name": "stdout",
          "text": [
            "2\n"
          ]
        }
      ]
    },
    {
      "cell_type": "markdown",
      "source": [
        "Sorting and reversing list"
      ],
      "metadata": {
        "id": "nilqNXKlxS6x"
      }
    },
    {
      "cell_type": "code",
      "source": [
        "lst =[1,4,3,2,5,4,2]\n",
        "lst.sort()\n",
        "print(lst)"
      ],
      "metadata": {
        "colab": {
          "base_uri": "https://localhost:8080/"
        },
        "id": "cEPfDQWdxV9S",
        "outputId": "41bfeb6c-4fdc-4fff-aaf7-fcf8d07bcf53"
      },
      "execution_count": null,
      "outputs": [
        {
          "output_type": "stream",
          "name": "stdout",
          "text": [
            "[1, 2, 2, 3, 4, 4, 5]\n"
          ]
        }
      ]
    },
    {
      "cell_type": "code",
      "source": [
        "lst =[1,4,3,2,5,4,2]\n",
        "lst.sort(reverse=True)\n",
        "print(lst)"
      ],
      "metadata": {
        "colab": {
          "base_uri": "https://localhost:8080/"
        },
        "id": "ZlB-204ZxXzf",
        "outputId": "aa249bba-8971-428c-ce5a-c37ed7f0fac3"
      },
      "execution_count": null,
      "outputs": [
        {
          "output_type": "stream",
          "name": "stdout",
          "text": [
            "[5, 4, 4, 3, 2, 2, 1]\n"
          ]
        }
      ]
    },
    {
      "cell_type": "code",
      "source": [
        "lst =[1,4,3,2,5,4,2]\n",
        "sorted_list = sorted(lst)\n",
        "print(sorted_list)\n",
        "print(lst)"
      ],
      "metadata": {
        "colab": {
          "base_uri": "https://localhost:8080/"
        },
        "id": "CiKLdmoSxXe1",
        "outputId": "7412de21-9c45-4133-9160-9859f6b40fce"
      },
      "execution_count": null,
      "outputs": [
        {
          "output_type": "stream",
          "name": "stdout",
          "text": [
            "[1, 2, 2, 3, 4, 4, 5]\n",
            "[1, 4, 3, 2, 5, 4, 2]\n"
          ]
        }
      ]
    },
    {
      "cell_type": "code",
      "source": [
        "lst =[1,4,3,2,5,4,2]\n",
        "sorted_list = sorted(lst,reverse = True)\n",
        "print(sorted_list)\n",
        "print(lst)"
      ],
      "metadata": {
        "colab": {
          "base_uri": "https://localhost:8080/"
        },
        "id": "-1R1fsznxu55",
        "outputId": "ee4758be-96e6-4b34-9365-f1559a2589a1"
      },
      "execution_count": null,
      "outputs": [
        {
          "output_type": "stream",
          "name": "stdout",
          "text": [
            "[5, 4, 4, 3, 2, 2, 1]\n",
            "[1, 4, 3, 2, 5, 4, 2]\n"
          ]
        }
      ]
    },
    {
      "cell_type": "code",
      "source": [
        "lst =[1,4,3,2,5,4,2]\n",
        "lst.reverse()\n",
        "print(lst)"
      ],
      "metadata": {
        "colab": {
          "base_uri": "https://localhost:8080/"
        },
        "id": "03auNATOxu2Z",
        "outputId": "ec1be4a2-7d49-48a1-d2ad-1d81ab7eed05"
      },
      "execution_count": null,
      "outputs": [
        {
          "output_type": "stream",
          "name": "stdout",
          "text": [
            "[2, 4, 5, 2, 3, 4, 1]\n"
          ]
        }
      ]
    },
    {
      "cell_type": "markdown",
      "source": [
        "Nested list"
      ],
      "metadata": {
        "id": "vCLHJmZ7yrQF"
      }
    },
    {
      "cell_type": "code",
      "source": [
        "matrix = [[1,2,3],[4,5,6],[7,8,9]]\n",
        "print(matrix)\n",
        "print(len(matrix))\n",
        "print(len(matrix[0]))"
      ],
      "metadata": {
        "colab": {
          "base_uri": "https://localhost:8080/"
        },
        "id": "wASs_uE2xu0E",
        "outputId": "4a6d8406-7d2d-493d-dcda-042268343bfc"
      },
      "execution_count": null,
      "outputs": [
        {
          "output_type": "stream",
          "name": "stdout",
          "text": [
            "[[1, 2, 3], [4, 5, 6], [7, 8, 9]]\n",
            "3\n",
            "3\n"
          ]
        }
      ]
    },
    {
      "cell_type": "code",
      "source": [
        "lst=[1,2]\n",
        "lst.append([3,4])\n",
        "print(lst)\n",
        "lst.append(5)\n",
        "print(lst)\n",
        "lst[2].append(7)\n",
        "print(lst)"
      ],
      "metadata": {
        "colab": {
          "base_uri": "https://localhost:8080/"
        },
        "id": "ixc1_B_Gxuxj",
        "outputId": "c02d3a70-b8b3-4ebb-b146-8217d8d18404"
      },
      "execution_count": null,
      "outputs": [
        {
          "output_type": "stream",
          "name": "stdout",
          "text": [
            "[1, 2, [3, 4]]\n",
            "[1, 2, [3, 4], 5]\n",
            "[1, 2, [3, 4, 7], 5]\n"
          ]
        }
      ]
    },
    {
      "cell_type": "markdown",
      "source": [
        "shallow and deep copy in list"
      ],
      "metadata": {
        "id": "i0_AdmYlzmxq"
      }
    },
    {
      "cell_type": "code",
      "source": [
        "a = [1,2,3]\n",
        "b=a\n",
        "b.append(4)\n",
        "print(a)\n",
        "print(b)"
      ],
      "metadata": {
        "colab": {
          "base_uri": "https://localhost:8080/"
        },
        "id": "PQBNAdQuzquM",
        "outputId": "5e949e45-a88e-4d05-b3c4-9e73af215394"
      },
      "execution_count": null,
      "outputs": [
        {
          "output_type": "stream",
          "name": "stdout",
          "text": [
            "[1, 2, 3, 4]\n",
            "[1, 2, 3, 4]\n"
          ]
        }
      ]
    },
    {
      "cell_type": "code",
      "source": [
        "a = [1,2,3]\n",
        "b=a.copy()   # this will also create a Shallow copy but if we are not using list inside the list then no issue\n",
        "b.append(4)\n",
        "print(a)\n",
        "print(b)"
      ],
      "metadata": {
        "colab": {
          "base_uri": "https://localhost:8080/"
        },
        "id": "9SB9bV92xuu1",
        "outputId": "c01f5b1a-ea9b-40de-a628-2fb475598d25"
      },
      "execution_count": null,
      "outputs": [
        {
          "output_type": "stream",
          "name": "stdout",
          "text": [
            "[1, 2, 3]\n",
            "[1, 2, 3, 4]\n"
          ]
        }
      ]
    },
    {
      "cell_type": "code",
      "source": [
        "a = [1,2,3]\n",
        "b=a[::]   # this will also create a Shallow copy as it it slicing but if we are not using list inside the list then no issue\n",
        "b.append(4)\n",
        "print(a)\n",
        "print(b)"
      ],
      "metadata": {
        "colab": {
          "base_uri": "https://localhost:8080/"
        },
        "id": "NjJbHPH9xXZ8",
        "outputId": "18b6743b-926e-4b18-dd21-596d5f6848a6"
      },
      "execution_count": null,
      "outputs": [
        {
          "output_type": "stream",
          "name": "stdout",
          "text": [
            "[1, 2, 3]\n",
            "[1, 2, 3, 4]\n"
          ]
        }
      ]
    },
    {
      "cell_type": "code",
      "source": [
        "import copy\n",
        "a = [1,2,3]\n",
        "b= copy.copy(a)  # this will also create a Shallow copy but if we are not using list inside the list then no issue\n",
        "b.append(4)\n",
        "print(a)\n",
        "print(b)"
      ],
      "metadata": {
        "colab": {
          "base_uri": "https://localhost:8080/"
        },
        "id": "CVdk6fudxXXb",
        "outputId": "10903c54-9f33-42f9-c636-0129e5814288"
      },
      "execution_count": null,
      "outputs": [
        {
          "output_type": "stream",
          "name": "stdout",
          "text": [
            "[1, 2, 3]\n",
            "[1, 2, 3, 4]\n"
          ]
        }
      ]
    },
    {
      "cell_type": "code",
      "source": [
        "a = [1,[2,3],[4,5]]\n",
        "b = a.copy()\n",
        "b[1].append(6) # here i'm changing the value which is present in both for reference.\n",
        "b.append(7) # Here i'm making change where address is saved so simply append in only b\n",
        "print(a)\n",
        "print(b)\n",
        "print(id(a))\n",
        "print(id(b))\n",
        "print(id(a[1]))\n",
        "print(id(b[1]))\n"
      ],
      "metadata": {
        "colab": {
          "base_uri": "https://localhost:8080/"
        },
        "id": "F69QkncMxXU2",
        "outputId": "c305531a-2962-4a0a-8ace-e3a7df6509cb"
      },
      "execution_count": null,
      "outputs": [
        {
          "output_type": "stream",
          "name": "stdout",
          "text": [
            "[1, [2, 3, 6], [4, 5]]\n",
            "[1, [2, 3, 6], [4, 5], 7]\n",
            "136134300758656\n",
            "136134304004672\n",
            "136134303997952\n",
            "136134303997952\n"
          ]
        }
      ]
    },
    {
      "cell_type": "code",
      "source": [
        "import copy\n",
        "a = [1,[2,3],[4,5]]\n",
        "b = copy.deepcopy(a)  # Now here it's deep copy not shallow copy\n",
        "b[1].append(6)\n",
        "b.append(7)\n",
        "print(a)\n",
        "print(b)\n",
        "print(id(a))\n",
        "print(id(b))\n",
        "print(id(a[1]))\n",
        "print(id(b[1]))"
      ],
      "metadata": {
        "colab": {
          "base_uri": "https://localhost:8080/"
        },
        "id": "qODFIyyUxXSI",
        "outputId": "59d0f6ff-c781-437f-bdf6-ca4b547f3be2"
      },
      "execution_count": null,
      "outputs": [
        {
          "output_type": "stream",
          "name": "stdout",
          "text": [
            "[1, [2, 3], [4, 5]]\n",
            "[1, [2, 3, 6], [4, 5], 7]\n",
            "136134302897792\n",
            "136134300559680\n",
            "136134302903680\n",
            "136134302904192\n"
          ]
        }
      ]
    },
    {
      "cell_type": "markdown",
      "source": [
        "LIST COMPREHENSIONS"
      ],
      "metadata": {
        "id": "a8d7KCrV52N-"
      }
    },
    {
      "cell_type": "code",
      "source": [
        "squares = [x**2 for x in range(5)]\n",
        "print(squares)"
      ],
      "metadata": {
        "colab": {
          "base_uri": "https://localhost:8080/"
        },
        "id": "i6qi8_eC54_T",
        "outputId": "0df1f07c-a92b-43a7-d39c-aaad45bbd304"
      },
      "execution_count": null,
      "outputs": [
        {
          "output_type": "stream",
          "name": "stdout",
          "text": [
            "[0, 1, 4, 9, 16]\n"
          ]
        }
      ]
    },
    {
      "cell_type": "markdown",
      "source": [],
      "metadata": {
        "id": "0zCqFGtU52Ew"
      }
    },
    {
      "cell_type": "code",
      "source": [
        "even_squares = [x**2 for x in range(10) if x%2==0]\n",
        "print(even_squares)"
      ],
      "metadata": {
        "colab": {
          "base_uri": "https://localhost:8080/"
        },
        "id": "IKXEWHm9xXJG",
        "outputId": "8318e0b4-c6d2-42ab-9030-f806217d8051"
      },
      "execution_count": null,
      "outputs": [
        {
          "output_type": "stream",
          "name": "stdout",
          "text": [
            "[0, 4, 16, 36, 64]\n"
          ]
        }
      ]
    },
    {
      "cell_type": "code",
      "source": [
        "labels = [\"even\" if x%2==0 else \"odd\" for x in range(10)]\n",
        "print(labels)"
      ],
      "metadata": {
        "colab": {
          "base_uri": "https://localhost:8080/"
        },
        "id": "PNEyJ9fQxW5a",
        "outputId": "bb248aa3-bb51-46b5-bf08-8b079da60ac6"
      },
      "execution_count": null,
      "outputs": [
        {
          "output_type": "stream",
          "name": "stdout",
          "text": [
            "['even', 'odd', 'even', 'odd', 'even', 'odd', 'even', 'odd', 'even', 'odd']\n"
          ]
        }
      ]
    },
    {
      "cell_type": "code",
      "source": [
        "matrix = [[1,2,3],[4,5,6],[7,8,9]]\n",
        "flatten = [num for row in matrix for num in row]\n",
        "print(flatten)"
      ],
      "metadata": {
        "colab": {
          "base_uri": "https://localhost:8080/"
        },
        "id": "F-IABkTn7MdU",
        "outputId": "b68ec2ba-3c73-4f9c-fc9e-faa6a4cc89df"
      },
      "execution_count": null,
      "outputs": [
        {
          "output_type": "stream",
          "name": "stdout",
          "text": [
            "[1, 2, 3, 4, 5, 6, 7, 8, 9]\n"
          ]
        }
      ]
    },
    {
      "cell_type": "code",
      "source": [],
      "metadata": {
        "id": "l97-RgSs7MaH"
      },
      "execution_count": null,
      "outputs": []
    },
    {
      "cell_type": "code",
      "source": [],
      "metadata": {
        "id": "8uTp5g0e7MXK"
      },
      "execution_count": null,
      "outputs": []
    },
    {
      "cell_type": "code",
      "source": [],
      "metadata": {
        "id": "Dvnl5hOA7MUh"
      },
      "execution_count": null,
      "outputs": []
    },
    {
      "cell_type": "code",
      "source": [],
      "metadata": {
        "id": "Wtd9b7da7MRz"
      },
      "execution_count": null,
      "outputs": []
    },
    {
      "cell_type": "markdown",
      "source": [],
      "metadata": {
        "id": "v6pgICYOcCi8"
      }
    },
    {
      "cell_type": "code",
      "execution_count": null,
      "metadata": {
        "colab": {
          "base_uri": "https://localhost:8080/"
        },
        "id": "_uLeub0UgEqp",
        "outputId": "3080333f-d9dd-4317-e87e-7302a10e22e1"
      },
      "outputs": [
        {
          "output_type": "stream",
          "name": "stdout",
          "text": [
            "133390623469824\n",
            "133390623469824\n",
            "133390629897280\n"
          ]
        }
      ],
      "source": [
        "li = [1,5,\"Hello\",5.0]\n",
        "print(id(li))\n",
        "li[1]=76\n",
        "print(id(li))\n",
        "print(id(li[::-1]))  # Here we can see that after doing slicing\n",
        "                     #  whether in string or list,output will be given at different memory location."
      ]
    },
    {
      "cell_type": "markdown",
      "source": [
        "add all even number in a list"
      ],
      "metadata": {
        "id": "IUvZia_DkpcL"
      }
    },
    {
      "cell_type": "code",
      "source": [
        "evenli = []\n",
        "for i in range(101):\n",
        "  if i%2 ==0:\n",
        "    evenli.append(i)\n",
        "print(evenli)"
      ],
      "metadata": {
        "colab": {
          "base_uri": "https://localhost:8080/"
        },
        "id": "VXxV6OTN8OmL",
        "outputId": "2ee7c546-8072-4075-b48e-b6ff8c38debe"
      },
      "execution_count": null,
      "outputs": [
        {
          "output_type": "stream",
          "name": "stdout",
          "text": [
            "[0, 2, 4, 6, 8, 10, 12, 14, 16, 18, 20, 22, 24, 26, 28, 30, 32, 34, 36, 38, 40, 42, 44, 46, 48, 50, 52, 54, 56, 58, 60, 62, 64, 66, 68, 70, 72, 74, 76, 78, 80, 82, 84, 86, 88, 90, 92, 94, 96, 98, 100]\n"
          ]
        }
      ]
    },
    {
      "cell_type": "code",
      "source": [
        "evenLi = [x for x in range(101) if x%2 == 0]\n",
        "# even = [x%2 for x in range(101)]   #\n",
        "print(evenLi)\n",
        "# print(even)"
      ],
      "metadata": {
        "colab": {
          "base_uri": "https://localhost:8080/"
        },
        "id": "5Qy14pz4Iccn",
        "outputId": "f3946b30-cff8-4a24-e55b-3f47a4187241"
      },
      "execution_count": null,
      "outputs": [
        {
          "output_type": "stream",
          "name": "stdout",
          "text": [
            "[0, 2, 4, 6, 8, 10, 12, 14, 16, 18, 20, 22, 24, 26, 28, 30, 32, 34, 36, 38, 40, 42, 44, 46, 48, 50, 52, 54, 56, 58, 60, 62, 64, 66, 68, 70, 72, 74, 76, 78, 80, 82, 84, 86, 88, 90, 92, 94, 96, 98, 100]\n"
          ]
        }
      ]
    },
    {
      "cell_type": "markdown",
      "source": [
        "Remove all negative number from list\n"
      ],
      "metadata": {
        "id": "94wNkjVwJyV4"
      }
    },
    {
      "cell_type": "code",
      "source": [
        "li = [2,4,-4,5,-5,-9,-876,-7,9,-12,4,56,-234]\n",
        "positiveLi = [x for x in li if x>0]\n",
        "print(positiveLi)\n",
        "\n"
      ],
      "metadata": {
        "colab": {
          "base_uri": "https://localhost:8080/"
        },
        "id": "DlydPoMbJ3NF",
        "outputId": "982ca48d-25f8-412b-9d61-2f4e6cf3aa4c"
      },
      "execution_count": null,
      "outputs": [
        {
          "output_type": "stream",
          "name": "stdout",
          "text": [
            "[2, 4, 5, 9, 4, 56]\n"
          ]
        }
      ]
    },
    {
      "cell_type": "markdown",
      "source": [
        "Second largest number in list\n"
      ],
      "metadata": {
        "id": "klfEYQRDPASE"
      }
    },
    {
      "cell_type": "code",
      "source": [
        "li = [3,5,78,32,45,678,98,675,789,786,789]\n",
        "li.sort(reverse=True)\n",
        "print(li)\n",
        "max = li[0]\n",
        "for x in li:\n",
        "  if x < max:\n",
        "    print(x)\n",
        "    break"
      ],
      "metadata": {
        "colab": {
          "base_uri": "https://localhost:8080/"
        },
        "id": "eIMpmRW9PEbI",
        "outputId": "46724010-4c75-4f56-cb8c-fc0b8f38cb35"
      },
      "execution_count": null,
      "outputs": [
        {
          "output_type": "stream",
          "name": "stdout",
          "text": [
            "[789, 789, 786, 678, 675, 98, 78, 45, 32, 5, 3]\n",
            "786\n"
          ]
        }
      ]
    },
    {
      "cell_type": "markdown",
      "source": [
        "separate into two list one for even and one for odd"
      ],
      "metadata": {
        "id": "yiictg-BP7dy"
      }
    },
    {
      "cell_type": "code",
      "source": [
        "li = list(range(20))\n",
        "even = []\n",
        "odd = []\n",
        "for x in li:\n",
        "  if x%2 == 0:\n",
        "    even.append(x)\n",
        "  else:\n",
        "    odd.append(x)\n",
        "print(f\"even list : {even} \\n odd list: {odd}\")\n",
        "\n"
      ],
      "metadata": {
        "colab": {
          "base_uri": "https://localhost:8080/"
        },
        "id": "-S_Z4YWPQFp7",
        "outputId": "2d637705-a57c-461c-b1b8-3a75c8dd8bd9"
      },
      "execution_count": null,
      "outputs": [
        {
          "output_type": "stream",
          "name": "stdout",
          "text": [
            "even list : [0, 2, 4, 6, 8, 10, 12, 14, 16, 18] \n",
            " odd list: [1, 3, 5, 7, 9, 11, 13, 15, 17, 19]\n"
          ]
        }
      ]
    },
    {
      "cell_type": "code",
      "source": [
        "even = []\n",
        "odd = []\n",
        "[even.append(x) if x%2 == 0 else odd.append(x) for x in li]\n",
        "print(f\"even list : {even} \\n odd list: {odd}\")"
      ],
      "metadata": {
        "colab": {
          "base_uri": "https://localhost:8080/"
        },
        "id": "vbKj121A950A",
        "outputId": "f0f48df0-db56-44f6-ce83-f49cc79cf92c"
      },
      "execution_count": null,
      "outputs": [
        {
          "output_type": "stream",
          "name": "stdout",
          "text": [
            "even list : [0, 2, 4, 6, 8, 10, 12, 14, 16, 18] \n",
            " odd list: [1, 3, 5, 7, 9, 11, 13, 15, 17, 19]\n"
          ]
        }
      ]
    },
    {
      "cell_type": "markdown",
      "source": [],
      "metadata": {
        "id": "_CVmd7dlOwW4"
      }
    },
    {
      "cell_type": "markdown",
      "source": [
        "removing duplicate"
      ],
      "metadata": {
        "id": "5gQ4M6Pt_PuU"
      }
    },
    {
      "cell_type": "code",
      "source": [
        "li = [1,2,1,2,3,3,11,11,23,4,1,3,2,2,1,1]\n",
        "print(li)\n",
        "unique = []\n",
        "[unique.append(x) for x in li if x not in unique]\n",
        "print(unique)"
      ],
      "metadata": {
        "colab": {
          "base_uri": "https://localhost:8080/"
        },
        "id": "h_hAm_Y9_RjP",
        "outputId": "40e7c030-fdfc-4eaa-d1a6-326bf1c5f81a"
      },
      "execution_count": null,
      "outputs": [
        {
          "output_type": "stream",
          "name": "stdout",
          "text": [
            "[1, 2, 1, 2, 3, 3, 11, 11, 23, 4, 1, 3, 2, 2, 1, 1]\n",
            "[1, 2, 3, 11, 23, 4]\n"
          ]
        }
      ]
    },
    {
      "cell_type": "markdown",
      "source": [
        "Rotate the list to left by kth position"
      ],
      "metadata": {
        "id": "IIIJ0S8QA6SY"
      }
    },
    {
      "cell_type": "code",
      "source": [
        "li = [1,2,3,4,5,6,7]\n",
        "k = 2\n",
        "print(li[k:] +li[:k] )"
      ],
      "metadata": {
        "colab": {
          "base_uri": "https://localhost:8080/"
        },
        "id": "e0L4B9A_BCnJ",
        "outputId": "fb6a188e-73dc-4c07-954a-041d4af6478e"
      },
      "execution_count": null,
      "outputs": [
        {
          "output_type": "stream",
          "name": "stdout",
          "text": [
            "[3, 4, 5, 6, 7, 1, 2]\n"
          ]
        }
      ]
    },
    {
      "cell_type": "markdown",
      "source": [
        "1.Rotate this list to the kth position by right\n",
        "2.what if k > len(list)\n"
      ],
      "metadata": {
        "id": "jxn6a37sBs65"
      }
    },
    {
      "cell_type": "markdown",
      "source": [],
      "metadata": {
        "id": "OCj3dgKIByDL"
      }
    },
    {
      "cell_type": "code",
      "source": [
        "li = [1,2,3,4,5,6,7]\n",
        "k = 2\n",
        "val = len(li)-k\n",
        "print(li[val:]+li[:val])"
      ],
      "metadata": {
        "colab": {
          "base_uri": "https://localhost:8080/"
        },
        "id": "VTzvaDDmB4Vg",
        "outputId": "78a53018-0423-4c12-be37-20eecb03860d"
      },
      "execution_count": null,
      "outputs": [
        {
          "output_type": "stream",
          "name": "stdout",
          "text": [
            "[6, 7, 1, 2, 3, 4, 5]\n"
          ]
        }
      ]
    },
    {
      "cell_type": "code",
      "source": [
        "li = [1,2,3,4,5,6,7]\n",
        "k = 10\n",
        "if k >len(li):\n",
        "  k = k%len(li)\n",
        "  print(li[k:]+li[:k])\n",
        "else:\n",
        "  print(li[k:]+li[:k])\n"
      ],
      "metadata": {
        "colab": {
          "base_uri": "https://localhost:8080/"
        },
        "id": "igfMgNtvC6ZI",
        "outputId": "fc480c3a-7590-4859-e3fa-53029e9d957e"
      },
      "execution_count": null,
      "outputs": [
        {
          "output_type": "stream",
          "name": "stdout",
          "text": [
            "[4, 5, 6, 7, 1, 2, 3]\n"
          ]
        }
      ]
    },
    {
      "cell_type": "markdown",
      "source": [],
      "metadata": {
        "id": "_ox5CKaTCYtc"
      }
    },
    {
      "cell_type": "markdown",
      "source": [],
      "metadata": {
        "id": "MuTbgRgOCYcR"
      }
    },
    {
      "cell_type": "code",
      "source": [
        "import copy\n",
        "a = [1,[2,3],[4,5]]\n",
        "b = copy.deepcopy(a)   # Now here it's deep copy not shallow copy\n",
        "b[1].append(6)\n",
        "b.append(7)\n",
        "print(a)\n",
        "print(b)"
      ],
      "metadata": {
        "colab": {
          "base_uri": "https://localhost:8080/"
        },
        "id": "aei_bV2nCXVC",
        "outputId": "3256ddcf-d479-4e78-be9e-d53e7d3b9ea5"
      },
      "execution_count": null,
      "outputs": [
        {
          "output_type": "stream",
          "name": "stdout",
          "text": [
            "[1, [2, 3], [4, 5]]\n",
            "[1, [2, 3, 6], [4, 5], 7]\n"
          ]
        }
      ]
    },
    {
      "cell_type": "code",
      "source": [
        "import copy\n",
        "a = [1,[2,3],[4,5]]\n",
        "b = copy.copy(a)       # Now here it's shallow copy\n",
        "b[1].append(6)\n",
        "b.append(7)\n",
        "print(a)\n",
        "print(b)"
      ],
      "metadata": {
        "colab": {
          "base_uri": "https://localhost:8080/"
        },
        "id": "gZbdn-KNCXI8",
        "outputId": "09d07f6e-5824-4ead-8f1c-dd2b2d8faef6"
      },
      "execution_count": null,
      "outputs": [
        {
          "output_type": "stream",
          "name": "stdout",
          "text": [
            "[1, [2, 3, 6], [4, 5]]\n",
            "[1, [2, 3, 6], [4, 5], 7]\n"
          ]
        }
      ]
    },
    {
      "cell_type": "code",
      "source": [
        "import copy\n",
        "a = [1,[2,3],[4,5]]\n",
        "b = a.copy()            # Now here it's  shallow copy\n",
        "b[1].append(6)\n",
        "b.append(7)\n",
        "print(a)\n",
        "print(b)"
      ],
      "metadata": {
        "colab": {
          "base_uri": "https://localhost:8080/"
        },
        "id": "vV_cG2xcCW7w",
        "outputId": "37285752-b10c-466a-d373-7a937d0a023d"
      },
      "execution_count": null,
      "outputs": [
        {
          "output_type": "stream",
          "name": "stdout",
          "text": [
            "[1, [2, 3, 6], [4, 5]]\n",
            "[1, [2, 3, 6], [4, 5], 7]\n"
          ]
        }
      ]
    },
    {
      "cell_type": "code",
      "source": [
        "import copy\n",
        "a = [1,[2,3],[4,5]]\n",
        "b = a[:]               # Now here it's  shallow copy\n",
        "b[1].append(6)\n",
        "a.append(7)\n",
        "print(a)\n",
        "print(b)"
      ],
      "metadata": {
        "colab": {
          "base_uri": "https://localhost:8080/"
        },
        "id": "qo_C9tkMD822",
        "outputId": "6de91a3e-0bc4-4836-bc68-7cc47961b955"
      },
      "execution_count": null,
      "outputs": [
        {
          "output_type": "stream",
          "name": "stdout",
          "text": [
            "[1, [2, 3, 6], [4, 5], 7]\n",
            "[1, [2, 3, 6], [4, 5]]\n"
          ]
        }
      ]
    },
    {
      "cell_type": "code",
      "source": [],
      "metadata": {
        "id": "tb0d2WziDl4y"
      },
      "execution_count": null,
      "outputs": []
    },
    {
      "cell_type": "code",
      "source": [],
      "metadata": {
        "id": "d692fchrDliZ"
      },
      "execution_count": null,
      "outputs": []
    }
  ]
}