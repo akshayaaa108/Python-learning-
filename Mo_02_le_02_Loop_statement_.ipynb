{
  "nbformat": 4,
  "nbformat_minor": 0,
  "metadata": {
    "colab": {
      "provenance": [],
      "authorship_tag": "ABX9TyN99wdXtXRzT38OiJI9ky7t",
      "include_colab_link": true
    },
    "kernelspec": {
      "name": "python3",
      "display_name": "Python 3"
    },
    "language_info": {
      "name": "python"
    }
  },
  "cells": [
    {
      "cell_type": "markdown",
      "metadata": {
        "id": "view-in-github",
        "colab_type": "text"
      },
      "source": [
        "<a href=\"https://colab.research.google.com/github/akshayaaa108/Python-learning-/blob/main/Mo_02_le_02_Loop_statement_.ipynb\" target=\"_parent\"><img src=\"https://colab.research.google.com/assets/colab-badge.svg\" alt=\"Open In Colab\"/></a>"
      ]
    },
    {
      "cell_type": "markdown",
      "source": [
        "while loop"
      ],
      "metadata": {
        "id": "7UgNrRbBDMsy"
      }
    },
    {
      "cell_type": "code",
      "source": [
        "x = 0\n",
        "while x<5:\n",
        "  print(x)\n",
        "  x = x +1"
      ],
      "metadata": {
        "colab": {
          "base_uri": "https://localhost:8080/"
        },
        "id": "YRkKLs_EDMVE",
        "outputId": "a0f99dcf-dcc8-4934-ed7a-1fbe377aa60e"
      },
      "execution_count": null,
      "outputs": [
        {
          "output_type": "stream",
          "name": "stdout",
          "text": [
            "0\n",
            "1\n",
            "2\n",
            "3\n",
            "4\n"
          ]
        }
      ]
    },
    {
      "cell_type": "markdown",
      "source": [
        "For loop"
      ],
      "metadata": {
        "id": "y4apMCFzDkGz"
      }
    },
    {
      "cell_type": "code",
      "source": [
        "for c in \"Game\":\n",
        "  print(c)"
      ],
      "metadata": {
        "colab": {
          "base_uri": "https://localhost:8080/"
        },
        "id": "ZQ5YbljEDjp7",
        "outputId": "90afa6df-a931-4892-c9b8-4f906cc64b89"
      },
      "execution_count": null,
      "outputs": [
        {
          "output_type": "stream",
          "name": "stdout",
          "text": [
            "G\n",
            "a\n",
            "m\n",
            "e\n"
          ]
        }
      ]
    },
    {
      "cell_type": "code",
      "source": [
        "fruits = [\"apple\",'mango','guava']\n",
        "for fruit in fruits:\n",
        "  for f in fruit:\n",
        "    print(f,end=\" \")\n",
        "\n",
        "  print(\" \")"
      ],
      "metadata": {
        "colab": {
          "base_uri": "https://localhost:8080/"
        },
        "id": "Ku-2hTQhDvgM",
        "outputId": "8759b8ed-6b24-42bf-ce44-711dd6496649"
      },
      "execution_count": null,
      "outputs": [
        {
          "output_type": "stream",
          "name": "stdout",
          "text": [
            "a p p l e  \n",
            "m a n g o  \n",
            "g u a v a  \n"
          ]
        }
      ]
    },
    {
      "cell_type": "code",
      "execution_count": null,
      "metadata": {
        "colab": {
          "base_uri": "https://localhost:8080/"
        },
        "id": "Ne2pzERyCg96",
        "outputId": "12e1566d-e6dd-4b61-9ced-a7321e31d8fb"
      },
      "outputs": [
        {
          "output_type": "stream",
          "name": "stdout",
          "text": [
            "23\n",
            "45\n",
            "67\n",
            "34\n"
          ]
        }
      ],
      "source": [
        "for x in [23,45,67,34]:\n",
        "  print(x)"
      ]
    },
    {
      "cell_type": "code",
      "source": [
        "li = [23,45,67,34]\n",
        "for idx, x in enumerate(li):\n",
        "  print(idx, x)"
      ],
      "metadata": {
        "colab": {
          "base_uri": "https://localhost:8080/"
        },
        "id": "nH4-KJYjCs7N",
        "outputId": "9de2253b-5aab-4028-df63-a81f36010481"
      },
      "execution_count": null,
      "outputs": [
        {
          "output_type": "stream",
          "name": "stdout",
          "text": [
            "0 23\n",
            "1 45\n",
            "2 67\n",
            "3 34\n"
          ]
        }
      ]
    },
    {
      "cell_type": "code",
      "source": [
        "for idx, item in enumerate((23,54,7878)):\n",
        "  print(idx, item)"
      ],
      "metadata": {
        "colab": {
          "base_uri": "https://localhost:8080/"
        },
        "id": "fpDgqcqxETYe",
        "outputId": "b8b0b398-9c2d-4445-e695-4e6d075a16b5"
      },
      "execution_count": null,
      "outputs": [
        {
          "output_type": "stream",
          "name": "stdout",
          "text": [
            "0 23\n",
            "1 54\n",
            "2 7878\n"
          ]
        }
      ]
    },
    {
      "cell_type": "code",
      "source": [
        "for i in range(5):\n",
        "  print(i)"
      ],
      "metadata": {
        "colab": {
          "base_uri": "https://localhost:8080/"
        },
        "id": "ziQaYIVvEofs",
        "outputId": "544743cd-1a8c-4ecd-bb38-09c176e44b9a"
      },
      "execution_count": null,
      "outputs": [
        {
          "output_type": "stream",
          "name": "stdout",
          "text": [
            "0\n",
            "1\n",
            "2\n",
            "3\n",
            "4\n"
          ]
        }
      ]
    },
    {
      "cell_type": "code",
      "source": [
        "for i in enumerate(range(5,10,2)):\n",
        "  print(i)"
      ],
      "metadata": {
        "colab": {
          "base_uri": "https://localhost:8080/"
        },
        "id": "2DwTvWbwExJx",
        "outputId": "8ce6a497-c4d9-4b25-bc1f-a5d163015767"
      },
      "execution_count": null,
      "outputs": [
        {
          "output_type": "stream",
          "name": "stdout",
          "text": [
            "(0, 5)\n",
            "(1, 7)\n",
            "(2, 9)\n"
          ]
        }
      ]
    },
    {
      "cell_type": "code",
      "source": [
        "for i in enumerate(range(20,0,-3)):\n",
        "  print(i)"
      ],
      "metadata": {
        "colab": {
          "base_uri": "https://localhost:8080/"
        },
        "id": "Y_ecAjQlFDlJ",
        "outputId": "3d92f792-7cbc-44c8-ddf4-c211c2deda41"
      },
      "execution_count": null,
      "outputs": [
        {
          "output_type": "stream",
          "name": "stdout",
          "text": [
            "(0, 20)\n",
            "(1, 17)\n",
            "(2, 14)\n",
            "(3, 11)\n",
            "(4, 8)\n",
            "(5, 5)\n",
            "(6, 2)\n"
          ]
        }
      ]
    },
    {
      "cell_type": "code",
      "source": [
        "for c in enumerate(\"AMul\"):\n",
        "  print(c)"
      ],
      "metadata": {
        "colab": {
          "base_uri": "https://localhost:8080/"
        },
        "id": "B9SjliqSFWJt",
        "outputId": "ff485f51-16f1-4f61-eacd-5b9a7306ca9f"
      },
      "execution_count": null,
      "outputs": [
        {
          "output_type": "stream",
          "name": "stdout",
          "text": [
            "(0, 'A')\n",
            "(1, 'M')\n",
            "(2, 'u')\n",
            "(3, 'l')\n"
          ]
        }
      ]
    },
    {
      "cell_type": "markdown",
      "source": [
        "sum of digit of a number"
      ],
      "metadata": {
        "id": "WJpCmS1bNQC-"
      }
    },
    {
      "cell_type": "code",
      "source": [
        "num = 242345\n",
        "sum= 0\n",
        "while num !=0:\n",
        "  digit = num%10\n",
        "  sum = sum+digit\n",
        "  num = num // 10\n",
        "\n",
        "print(sum)"
      ],
      "metadata": {
        "colab": {
          "base_uri": "https://localhost:8080/"
        },
        "id": "ps8kiwW6Fjam",
        "outputId": "5e89bca0-13bb-44d4-e772-7baa58ebce68"
      },
      "execution_count": null,
      "outputs": [
        {
          "output_type": "stream",
          "name": "stdout",
          "text": [
            "20\n"
          ]
        }
      ]
    },
    {
      "cell_type": "markdown",
      "source": [
        "counting vowels"
      ],
      "metadata": {
        "id": "yEI6y1ZCNUsc"
      }
    },
    {
      "cell_type": "code",
      "source": [
        "letter = \"vOowels\"\n",
        "vowel = \"aeiouAEIOU\"\n",
        "count  =  0\n",
        "for v in letter:\n",
        "  if v in vowel:\n",
        "    count +=1\n",
        "print(count)\n"
      ],
      "metadata": {
        "colab": {
          "base_uri": "https://localhost:8080/"
        },
        "id": "35PqfzdwG1eb",
        "outputId": "eb2b6038-b440-4ef7-d488-bd7170f983f7"
      },
      "execution_count": null,
      "outputs": [
        {
          "output_type": "stream",
          "name": "stdout",
          "text": [
            "3\n"
          ]
        }
      ]
    },
    {
      "cell_type": "code",
      "source": [
        "print('g' in \"game\")"
      ],
      "metadata": {
        "colab": {
          "base_uri": "https://localhost:8080/"
        },
        "id": "BpL8-a_hO38_",
        "outputId": "186f151f-001f-42c9-9d33-7d1210f690d2"
      },
      "execution_count": null,
      "outputs": [
        {
          "output_type": "stream",
          "name": "stdout",
          "text": [
            "True\n"
          ]
        }
      ]
    },
    {
      "cell_type": "markdown",
      "source": [],
      "metadata": {
        "id": "br6Qe6XxFivo"
      }
    },
    {
      "cell_type": "code",
      "source": [
        "dic = {1:'a',2:'b',3:'c',4:'d'}\n",
        "for key, value in dic.items():\n",
        "  print(key, value)"
      ],
      "metadata": {
        "colab": {
          "base_uri": "https://localhost:8080/"
        },
        "id": "GbRsngO9HamX",
        "outputId": "f1f832be-c111-4686-e5fe-da9046bca990"
      },
      "execution_count": null,
      "outputs": [
        {
          "output_type": "stream",
          "name": "stdout",
          "text": [
            "1 a\n",
            "2 b\n",
            "3 c\n",
            "4 d\n"
          ]
        }
      ]
    },
    {
      "cell_type": "code",
      "source": [
        "li = [2,4,5,7,8,9,234,456778]\n",
        "for i in li:\n",
        "  print(i)\n",
        "  if i == 8:\n",
        "    break\n"
      ],
      "metadata": {
        "colab": {
          "base_uri": "https://localhost:8080/"
        },
        "id": "AwbMkyvhH6Hb",
        "outputId": "4f41165d-5093-496b-94bb-5b06f89fca38"
      },
      "execution_count": null,
      "outputs": [
        {
          "output_type": "stream",
          "name": "stdout",
          "text": [
            "2\n",
            "4\n",
            "5\n",
            "7\n",
            "8\n"
          ]
        }
      ]
    },
    {
      "cell_type": "code",
      "source": [
        "tu = (3,4456,78,34,567,78765,234567)\n",
        "for idx, t in enumerate(tu):\n",
        "  print(idx,t)"
      ],
      "metadata": {
        "colab": {
          "base_uri": "https://localhost:8080/"
        },
        "id": "IT1aziQfIM4L",
        "outputId": "3c2b02e3-b562-4322-b254-692577e01291"
      },
      "execution_count": null,
      "outputs": [
        {
          "output_type": "stream",
          "name": "stdout",
          "text": [
            "0 3\n",
            "1 4456\n",
            "2 78\n",
            "3 34\n",
            "4 567\n",
            "5 78765\n",
            "6 234567\n"
          ]
        }
      ]
    },
    {
      "cell_type": "code",
      "source": [
        "for i in range(5):\n",
        "  print(\"Hello\")"
      ],
      "metadata": {
        "colab": {
          "base_uri": "https://localhost:8080/"
        },
        "id": "DpkHS7XBJLn4",
        "outputId": "707e2579-2fab-436c-9bb8-edeb0989ba6f"
      },
      "execution_count": null,
      "outputs": [
        {
          "output_type": "stream",
          "name": "stdout",
          "text": [
            "Hello\n",
            "Hello\n",
            "Hello\n",
            "Hello\n",
            "Hello\n"
          ]
        }
      ]
    },
    {
      "cell_type": "code",
      "source": [
        "for _ in range(5):\n",
        "  print(\"Hello\")    # if u don't want to use variable inside loop."
      ],
      "metadata": {
        "colab": {
          "base_uri": "https://localhost:8080/"
        },
        "id": "SB1g6jlSJRMX",
        "outputId": "006801e3-406e-4932-b03a-2ea50d203842"
      },
      "execution_count": null,
      "outputs": [
        {
          "output_type": "stream",
          "name": "stdout",
          "text": [
            "Hello\n",
            "Hello\n",
            "Hello\n",
            "Hello\n",
            "Hello\n"
          ]
        }
      ]
    },
    {
      "cell_type": "markdown",
      "source": [
        "**Pass: when we don't have logic then write nothing....**\n"
      ],
      "metadata": {
        "id": "Bf-Gd2Q3KD1Z"
      }
    },
    {
      "cell_type": "code",
      "source": [
        "for i in range(1,5):\n",
        "  if i ==3 or i==4:\n",
        "    pass\n",
        "  else:\n",
        "    print(i)\n"
      ],
      "metadata": {
        "colab": {
          "base_uri": "https://localhost:8080/"
        },
        "id": "GlBe8xwXKb7N",
        "outputId": "839af014-35a4-4d97-908d-04265a0e283a"
      },
      "execution_count": null,
      "outputs": [
        {
          "output_type": "stream",
          "name": "stdout",
          "text": [
            "1\n",
            "2\n"
          ]
        }
      ]
    },
    {
      "cell_type": "code",
      "source": [],
      "metadata": {
        "id": "FCYZbfohMPbT"
      },
      "execution_count": null,
      "outputs": []
    },
    {
      "cell_type": "markdown",
      "source": [],
      "metadata": {
        "id": "aZ2HSOtfJKoa"
      }
    }
  ]
}