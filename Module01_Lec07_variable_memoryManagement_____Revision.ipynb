{
  "nbformat": 4,
  "nbformat_minor": 0,
  "metadata": {
    "colab": {
      "provenance": [],
      "authorship_tag": "ABX9TyPezEE/kr69FRx+aYUzhNof",
      "include_colab_link": true
    },
    "kernelspec": {
      "name": "python3",
      "display_name": "Python 3"
    },
    "language_info": {
      "name": "python"
    }
  },
  "cells": [
    {
      "cell_type": "markdown",
      "metadata": {
        "id": "view-in-github",
        "colab_type": "text"
      },
      "source": [
        "<a href=\"https://colab.research.google.com/github/akshayaaa108/Python-learning-/blob/main/Module01_Lec07_variable_memoryManagement_____Revision.ipynb\" target=\"_parent\"><img src=\"https://colab.research.google.com/assets/colab-badge.svg\" alt=\"Open In Colab\"/></a>"
      ]
    },
    {
      "cell_type": "code",
      "execution_count": null,
      "metadata": {
        "colab": {
          "base_uri": "https://localhost:8080/"
        },
        "id": "h5QLhmkVqfo9",
        "outputId": "2237ba0f-6c48-4377-e490-3847eb1ce852"
      },
      "outputs": [
        {
          "output_type": "stream",
          "name": "stdout",
          "text": [
            "Name: Alice, Type of name : <class 'str'>\n",
            "Age: 25 , Type of age : <class 'int'>\n",
            "Student age : True , Type of student : <class 'bool'>\n",
            "Marks : {'Maths': 91, 'Science': 46} , Type of marks : <class 'dict'>\n"
          ]
        }
      ],
      "source": [
        "Name = \"Alice\"\n",
        "age = 25\n",
        "is_student = True\n",
        "marks = {\"Maths\":91,\"Science\":46}\n",
        "\n",
        "print(f\"Name: {Name}, Type of name : {type(Name)}\")\n",
        "print(f\"Age: {age} , Type of age : {type(age)}\")\n",
        "print(f\"Student age : {is_student} , Type of student : {type(is_student)}\")\n",
        "print(f\"Marks : {marks} , Type of marks : {type(marks)}\")\n"
      ]
    },
    {
      "cell_type": "markdown",
      "source": [
        "# New Section"
      ],
      "metadata": {
        "id": "wEHvHosmBrbx"
      }
    },
    {
      "cell_type": "code",
      "source": [],
      "metadata": {
        "id": "M1zfd2NbByJc"
      },
      "execution_count": null,
      "outputs": []
    },
    {
      "cell_type": "markdown",
      "source": [
        "# New Section"
      ],
      "metadata": {
        "id": "PSa2NZZBBr-J"
      }
    },
    {
      "cell_type": "code",
      "source": [
        "a, b = 10, 20\n",
        "print(f\"value of a : {a} , Value of b : {b}\")"
      ],
      "metadata": {
        "colab": {
          "base_uri": "https://localhost:8080/"
        },
        "id": "PRiY6s5sr3WS",
        "outputId": "2e55e571-f59b-4887-9158-cfe1ce072499"
      },
      "execution_count": null,
      "outputs": [
        {
          "output_type": "stream",
          "name": "stdout",
          "text": [
            "value of a : 10 , Value of b : 20\n"
          ]
        }
      ]
    },
    {
      "cell_type": "code",
      "source": [
        "x=y=z = 10\n",
        "print(x,y,z)"
      ],
      "metadata": {
        "colab": {
          "base_uri": "https://localhost:8080/"
        },
        "id": "2EEhaG19s3jN",
        "outputId": "4b32e17b-e9fe-4d61-9ac7-a655d66fb728"
      },
      "execution_count": null,
      "outputs": [
        {
          "output_type": "stream",
          "name": "stdout",
          "text": [
            "10 10 10\n"
          ]
        }
      ]
    },
    {
      "cell_type": "code",
      "source": [
        "a , b = b, a\n",
        "print(f\"value of a : {a} , Value of b : {b}\")"
      ],
      "metadata": {
        "colab": {
          "base_uri": "https://localhost:8080/"
        },
        "id": "A9RAuJ8qs88H",
        "outputId": "10e286ac-d4e3-48ec-cec2-e53634e809b0"
      },
      "execution_count": null,
      "outputs": [
        {
          "output_type": "stream",
          "name": "stdout",
          "text": [
            "value of a : 20 , Value of b : 10\n"
          ]
        }
      ]
    },
    {
      "cell_type": "markdown",
      "source": [
        "Dynamically typed\n"
      ],
      "metadata": {
        "id": "WMgbRTNWtROX"
      }
    },
    {
      "cell_type": "code",
      "source": [
        "x = 10\n",
        "print(f\"valur of x : {x}, Type of x : {type(x)}\")\n",
        "x = \"I am String\"\n",
        "print(f\"valur of x : {x}, Type of x : {type(x)}\")"
      ],
      "metadata": {
        "colab": {
          "base_uri": "https://localhost:8080/"
        },
        "id": "8V-aAxkPtTdF",
        "outputId": "42e80be4-87c3-45bd-9eea-2ef33f4b14d3"
      },
      "execution_count": null,
      "outputs": [
        {
          "output_type": "stream",
          "name": "stdout",
          "text": [
            "valur of x : 10, Type of x : <class 'int'>\n",
            "valur of x : I am String, Type of x : <class 'str'>\n"
          ]
        }
      ]
    },
    {
      "cell_type": "markdown",
      "source": [
        "variable and memory\n"
      ],
      "metadata": {
        "id": "BdSBI3-uuN9_"
      }
    },
    {
      "cell_type": "code",
      "source": [
        "a = 10\n",
        "b = a\n",
        "print (a, b)\n",
        "print (a is b )\n",
        "print(id(a),id(b))\n"
      ],
      "metadata": {
        "colab": {
          "base_uri": "https://localhost:8080/"
        },
        "id": "82DErpd7uRus",
        "outputId": "514e96e2-efba-4703-9287-09d0383fc24a"
      },
      "execution_count": null,
      "outputs": [
        {
          "output_type": "stream",
          "name": "stdout",
          "text": [
            "10 10\n",
            "True\n",
            "10758024 10758024\n"
          ]
        }
      ]
    },
    {
      "cell_type": "code",
      "source": [
        "a = [1,2,3]\n",
        "b = a\n",
        "b.append(4)\n",
        "print(a)\n",
        "print(a is b )\n",
        "print (id(a), id(b))"
      ],
      "metadata": {
        "colab": {
          "base_uri": "https://localhost:8080/"
        },
        "id": "VDC5b5giuLvA",
        "outputId": "31a8a831-f58c-46d5-e738-fc1accb10bef"
      },
      "execution_count": null,
      "outputs": [
        {
          "output_type": "stream",
          "name": "stdout",
          "text": [
            "[1, 2, 3, 4]\n",
            "True\n",
            "133292125997312 133292125997312\n"
          ]
        }
      ]
    },
    {
      "cell_type": "markdown",
      "source": [
        "Object interning -->    -5 to 125 --stored in cache\n"
      ],
      "metadata": {
        "id": "t17XlibQvBgR"
      }
    },
    {
      "cell_type": "code",
      "source": [
        "x = 100\n",
        "y =100\n",
        "print(x is y)\n",
        "print (id(x),id(y))"
      ],
      "metadata": {
        "colab": {
          "base_uri": "https://localhost:8080/"
        },
        "id": "ymy5Lpg6vE8A",
        "outputId": "dcaa702f-2782-4604-927c-9f64ec5df354"
      },
      "execution_count": null,
      "outputs": [
        {
          "output_type": "stream",
          "name": "stdout",
          "text": [
            "True\n",
            "10760904 10760904\n"
          ]
        }
      ]
    },
    {
      "cell_type": "code",
      "source": [
        "x = 257\n",
        "y = 257\n",
        "print(x is y)\n",
        "print (id(x),id(y))"
      ],
      "metadata": {
        "colab": {
          "base_uri": "https://localhost:8080/"
        },
        "id": "Qa9SahicvWLX",
        "outputId": "7ae513fb-1a4e-439a-bcaa-08fb6ad93beb"
      },
      "execution_count": null,
      "outputs": [
        {
          "output_type": "stream",
          "name": "stdout",
          "text": [
            "False\n",
            "133292115850320 133292115842256\n"
          ]
        }
      ]
    },
    {
      "cell_type": "markdown",
      "source": [
        "variable rebinding  -- if no variable is referencing i.e pointing then that is garbage. if we assign same different value to same variable memeory location is not same"
      ],
      "metadata": {
        "id": "Y1qlTymYv2NP"
      }
    },
    {
      "cell_type": "code",
      "source": [
        "x = 500\n",
        "print (id(x))\n",
        "\n",
        "x = 1000\n",
        "print (id(x))\n",
        "\n",
        "x = \"Hello\"\n",
        "print (id(x))\n"
      ],
      "metadata": {
        "colab": {
          "base_uri": "https://localhost:8080/"
        },
        "id": "tcJKbAxwvcBR",
        "outputId": "820ca4cc-9d62-43cf-cf6c-2ca863a210fc"
      },
      "execution_count": null,
      "outputs": [
        {
          "output_type": "stream",
          "name": "stdout",
          "text": [
            "133292115846192\n",
            "133292115839472\n",
            "133292125929392\n"
          ]
        }
      ]
    },
    {
      "cell_type": "markdown",
      "source": [
        "garbage collection\n"
      ],
      "metadata": {
        "id": "rp0CIi7BwpsZ"
      }
    },
    {
      "cell_type": "code",
      "source": [
        "import gc\n",
        "gc.collect()"
      ],
      "metadata": {
        "colab": {
          "base_uri": "https://localhost:8080/"
        },
        "id": "ZdP44KNjwsGA",
        "outputId": "e9773dab-90fc-4361-952b-b873d500ae41"
      },
      "execution_count": null,
      "outputs": [
        {
          "output_type": "execute_result",
          "data": {
            "text/plain": [
              "584"
            ]
          },
          "metadata": {},
          "execution_count": 12
        }
      ]
    },
    {
      "cell_type": "markdown",
      "source": [
        "If you don't want garbage then always delete the varible\n"
      ],
      "metadata": {
        "id": "WOnQhOQ6wyR3"
      }
    },
    {
      "cell_type": "markdown",
      "source": [],
      "metadata": {
        "id": "rpnhAuXptQrM"
      }
    },
    {
      "cell_type": "code",
      "source": [
        "x = 10\n",
        "del x\n",
        "print (x)"
      ],
      "metadata": {
        "colab": {
          "base_uri": "https://localhost:8080/",
          "height": 176
        },
        "id": "eBRVKj9ew4S-",
        "outputId": "6e277230-93b9-4bc8-c84b-32ff8e1c7c64"
      },
      "execution_count": null,
      "outputs": [
        {
          "output_type": "error",
          "ename": "NameError",
          "evalue": "name 'x' is not defined",
          "traceback": [
            "\u001b[0;31m---------------------------------------------------------------------------\u001b[0m",
            "\u001b[0;31mNameError\u001b[0m                                 Traceback (most recent call last)",
            "\u001b[0;32m/tmp/ipython-input-4243449469.py\u001b[0m in \u001b[0;36m<cell line: 0>\u001b[0;34m()\u001b[0m\n\u001b[1;32m      1\u001b[0m \u001b[0mx\u001b[0m \u001b[0;34m=\u001b[0m \u001b[0;36m10\u001b[0m\u001b[0;34m\u001b[0m\u001b[0;34m\u001b[0m\u001b[0m\n\u001b[1;32m      2\u001b[0m \u001b[0;32mdel\u001b[0m \u001b[0mx\u001b[0m\u001b[0;34m\u001b[0m\u001b[0;34m\u001b[0m\u001b[0m\n\u001b[0;32m----> 3\u001b[0;31m \u001b[0mprint\u001b[0m \u001b[0;34m(\u001b[0m\u001b[0mx\u001b[0m\u001b[0;34m)\u001b[0m\u001b[0;34m\u001b[0m\u001b[0;34m\u001b[0m\u001b[0m\n\u001b[0m",
            "\u001b[0;31mNameError\u001b[0m: name 'x' is not defined"
          ]
        }
      ]
    },
    {
      "cell_type": "code",
      "source": [
        "template = \"{:<10} {:<10}\"\n",
        "print(template.format(\"Name\",\"Marks\"))\n",
        "\n",
        "print(template.format(\"Alice\",91))\n",
        "print(template.format(\"Bob\",88))\n",
        "print(template.format(\"Charlie\",95))\n"
      ],
      "metadata": {
        "id": "gwlp4oDiw8CF",
        "colab": {
          "base_uri": "https://localhost:8080/"
        },
        "outputId": "52e935d7-1f25-4e38-9a6b-cb0bea082f8a"
      },
      "execution_count": null,
      "outputs": [
        {
          "output_type": "stream",
          "name": "stdout",
          "text": [
            "Name       Marks     \n",
            "Alice      91        \n",
            "Bob        88        \n",
            "Charlie    95        \n"
          ]
        }
      ]
    },
    {
      "cell_type": "code",
      "source": [
        "a = 5\n",
        "print(f\"{a:06}\")\n",
        "print(\"{:06}\".format(a))"
      ],
      "metadata": {
        "colab": {
          "base_uri": "https://localhost:8080/"
        },
        "id": "KOZoHvxftHZW",
        "outputId": "71062182-d7ab-458a-9595-74bdb4b161ab"
      },
      "execution_count": null,
      "outputs": [
        {
          "output_type": "stream",
          "name": "stdout",
          "text": [
            "000005\n",
            "000005\n"
          ]
        }
      ]
    },
    {
      "cell_type": "code",
      "source": [
        "name = \"AKshay\"\n",
        "age = 26\n",
        "coll = \"HIT\"\n",
        "\n",
        "print(f\"{name} {age} {coll}\")\n",
        "print(name, age, coll)\n"
      ],
      "metadata": {
        "colab": {
          "base_uri": "https://localhost:8080/"
        },
        "id": "Hzt9rEJEtuJR",
        "outputId": "8a7403e2-f923-4096-d461-cf18e3b3fe46"
      },
      "execution_count": null,
      "outputs": [
        {
          "output_type": "stream",
          "name": "stdout",
          "text": [
            "AKshay 26 HIT\n",
            "AKshay 26 HIT\n"
          ]
        }
      ]
    },
    {
      "cell_type": "code",
      "source": [
        "from posixpath import split\n",
        "a, b, c  = map ( int,input(\"ENTER three number using space \").split())\n",
        "print (a*b*c)"
      ],
      "metadata": {
        "colab": {
          "base_uri": "https://localhost:8080/"
        },
        "id": "eexf41sCuIZU",
        "outputId": "46568c2b-5321-4f68-b3e5-8cc540615cd8"
      },
      "execution_count": null,
      "outputs": [
        {
          "output_type": "stream",
          "name": "stdout",
          "text": [
            "ENTER three number using space 2 3 5\n",
            "30\n"
          ]
        }
      ]
    },
    {
      "cell_type": "code",
      "source": [
        "x = 10\n",
        "y  = 10\n",
        "\n",
        "y = y+1\n",
        "print (x)\n",
        "print(y)\n",
        "print(x is y)\n",
        "print(y is x)\n",
        "print(id(x))\n",
        "print(id(y))"
      ],
      "metadata": {
        "colab": {
          "base_uri": "https://localhost:8080/"
        },
        "id": "74aK7EuFw7NZ",
        "outputId": "4dcb506d-970b-4d47-f37d-4122bd3dee88"
      },
      "execution_count": null,
      "outputs": [
        {
          "output_type": "stream",
          "name": "stdout",
          "text": [
            "10\n",
            "11\n",
            "False\n",
            "False\n",
            "10758024\n",
            "10758056\n"
          ]
        }
      ]
    },
    {
      "cell_type": "code",
      "source": [
        "x = 10\n",
        "y  = x\n",
        "\n",
        "\n",
        "print (x)\n",
        "print(y)\n",
        "print(x is y)\n",
        "print(y is x)\n",
        "print(id(x))\n",
        "print(id(y))"
      ],
      "metadata": {
        "colab": {
          "base_uri": "https://localhost:8080/"
        },
        "id": "K4QtlI_txeLi",
        "outputId": "3c52b1b5-44c7-487d-8ed4-7873d7ef990d"
      },
      "execution_count": null,
      "outputs": [
        {
          "output_type": "stream",
          "name": "stdout",
          "text": [
            "10\n",
            "10\n",
            "True\n",
            "True\n",
            "10758024\n",
            "10758024\n"
          ]
        }
      ]
    },
    {
      "cell_type": "code",
      "source": [
        "a = [1,2,3]\n",
        "b = a\n",
        "b.append(4)\n",
        "print(a)\n",
        "print(b)\n",
        "print(id(a))\n",
        "print(id(b))"
      ],
      "metadata": {
        "colab": {
          "base_uri": "https://localhost:8080/"
        },
        "id": "nXVEsLLWybQM",
        "outputId": "bcff8185-ae4a-4efc-d45f-7a541fa034fc"
      },
      "execution_count": null,
      "outputs": [
        {
          "output_type": "stream",
          "name": "stdout",
          "text": [
            "[1, 2, 3, 4]\n",
            "[1, 2, 3, 4]\n",
            "133810998096192\n",
            "133810998096192\n"
          ]
        }
      ]
    },
    {
      "cell_type": "code",
      "source": [
        "a = [\"Hello\",23,1+3j]\n",
        "print(a[0])\n",
        "print(a[1])\n",
        "print(a[2])\n",
        "a[1]= 34  # here it can be changed as it is list ie mutable.\n",
        "print(a[1])\n",
        "print(type(a))\n",
        "print(type(a[0]))\n",
        "print(a)"
      ],
      "metadata": {
        "colab": {
          "base_uri": "https://localhost:8080/"
        },
        "id": "dYbsMjDaCclX",
        "outputId": "a9da5041-9915-4a3b-aa84-caf13c7707c3"
      },
      "execution_count": null,
      "outputs": [
        {
          "output_type": "stream",
          "name": "stdout",
          "text": [
            "Hello\n",
            "23\n",
            "(1+3j)\n",
            "34\n",
            "<class 'list'>\n",
            "<class 'str'>\n",
            "['Hello', 34, (1+3j)]\n"
          ]
        }
      ]
    },
    {
      "cell_type": "code",
      "source": [
        "a=(\"Hello\",23,1+3j)\n",
        "print(a[0])\n",
        "print(a[1])\n",
        "print(a[2])\n",
        "a[1]= 34  # Here it's tuple ie not mutable.\n",
        "print(a[1])\n"
      ],
      "metadata": {
        "colab": {
          "base_uri": "https://localhost:8080/",
          "height": 245
        },
        "id": "lxmn5-RfDAxP",
        "outputId": "8fa601e7-e4c2-4f90-d1f8-6e010bd6ecd0"
      },
      "execution_count": null,
      "outputs": [
        {
          "output_type": "stream",
          "name": "stdout",
          "text": [
            "Hello\n",
            "23\n",
            "(1+3j)\n"
          ]
        },
        {
          "output_type": "error",
          "ename": "TypeError",
          "evalue": "'tuple' object does not support item assignment",
          "traceback": [
            "\u001b[0;31m---------------------------------------------------------------------------\u001b[0m",
            "\u001b[0;31mTypeError\u001b[0m                                 Traceback (most recent call last)",
            "\u001b[0;32m/tmp/ipython-input-3504990826.py\u001b[0m in \u001b[0;36m<cell line: 0>\u001b[0;34m()\u001b[0m\n\u001b[1;32m      3\u001b[0m \u001b[0mprint\u001b[0m\u001b[0;34m(\u001b[0m\u001b[0ma\u001b[0m\u001b[0;34m[\u001b[0m\u001b[0;36m1\u001b[0m\u001b[0;34m]\u001b[0m\u001b[0;34m)\u001b[0m\u001b[0;34m\u001b[0m\u001b[0;34m\u001b[0m\u001b[0m\n\u001b[1;32m      4\u001b[0m \u001b[0mprint\u001b[0m\u001b[0;34m(\u001b[0m\u001b[0ma\u001b[0m\u001b[0;34m[\u001b[0m\u001b[0;36m2\u001b[0m\u001b[0;34m]\u001b[0m\u001b[0;34m)\u001b[0m\u001b[0;34m\u001b[0m\u001b[0;34m\u001b[0m\u001b[0m\n\u001b[0;32m----> 5\u001b[0;31m \u001b[0ma\u001b[0m\u001b[0;34m[\u001b[0m\u001b[0;36m1\u001b[0m\u001b[0;34m]\u001b[0m\u001b[0;34m=\u001b[0m \u001b[0;36m34\u001b[0m  \u001b[0;31m# Here it's tuple ie not mutable.\u001b[0m\u001b[0;34m\u001b[0m\u001b[0;34m\u001b[0m\u001b[0m\n\u001b[0m\u001b[1;32m      6\u001b[0m \u001b[0mprint\u001b[0m\u001b[0;34m(\u001b[0m\u001b[0ma\u001b[0m\u001b[0;34m[\u001b[0m\u001b[0;36m1\u001b[0m\u001b[0;34m]\u001b[0m\u001b[0;34m)\u001b[0m\u001b[0;34m\u001b[0m\u001b[0;34m\u001b[0m\u001b[0m\n",
            "\u001b[0;31mTypeError\u001b[0m: 'tuple' object does not support item assignment"
          ]
        }
      ]
    },
    {
      "cell_type": "code",
      "source": [
        "a={\"Hello\",23,1+3j}\n",
        "print(a)"
      ],
      "metadata": {
        "colab": {
          "base_uri": "https://localhost:8080/"
        },
        "id": "NWDO1BmpEWWr",
        "outputId": "2fab0c12-f115-4186-8893-0c74d59949ce"
      },
      "execution_count": null,
      "outputs": [
        {
          "output_type": "stream",
          "name": "stdout",
          "text": [
            "{'Hello', (1+3j), 23}\n"
          ]
        }
      ]
    },
    {
      "cell_type": "code",
      "source": [
        "print(\"A\" ,\"b\")\n",
        "print(\"Hii there\")"
      ],
      "metadata": {
        "colab": {
          "base_uri": "https://localhost:8080/"
        },
        "id": "1FraGTLvE5Nj",
        "outputId": "b5e3b0df-c3a0-47c9-9f42-af87281c3af9"
      },
      "execution_count": null,
      "outputs": [
        {
          "output_type": "stream",
          "name": "stdout",
          "text": [
            "A b\n",
            "Hii there\n"
          ]
        }
      ]
    },
    {
      "cell_type": "code",
      "source": [
        "print(\"A\" ,\"b\" ,sep = '--',end=' ')\n",
        "print(\"Hii there\")"
      ],
      "metadata": {
        "colab": {
          "base_uri": "https://localhost:8080/"
        },
        "id": "TZUaTdAuFKV0",
        "outputId": "c3061568-77c4-4b10-eff5-1cb1af5f74bb"
      },
      "execution_count": null,
      "outputs": [
        {
          "output_type": "stream",
          "name": "stdout",
          "text": [
            "A--b Hii there\n"
          ]
        }
      ]
    },
    {
      "cell_type": "code",
      "source": [
        "name = \"AKshay\"\n",
        "marks = 99.9887095\n",
        "print(\"my Name is\",name,\"and marks is\",marks)\n",
        "print(f\"my name is {name} and marks is {marks:>010.2f}\")\n",
        "print(f\"my name is {name} and marks is {marks:>10.2f}\")\n",
        "print(f\"my name is {name} and marks is {marks:<10.2f}\")\n",
        "print(f\"my name is {name} and marks is {marks:^10.2f}\")\n",
        "template = \"{} scored {} marks\"\n",
        "print (template.format(name, marks))\n",
        "print (\"{1} scored {0} marks by mekfssfsdf\".format(name, marks))\n"
      ],
      "metadata": {
        "colab": {
          "base_uri": "https://localhost:8080/"
        },
        "id": "QWZXwNiiFcVP",
        "outputId": "b32d3eae-947c-4fb9-b83e-50a5e1be3ae8"
      },
      "execution_count": null,
      "outputs": [
        {
          "output_type": "stream",
          "name": "stdout",
          "text": [
            "my Name is AKshay and marks is 99.9887095\n",
            "my name is AKshay and marks is 0000099.99\n",
            "my name is AKshay and marks is      99.99\n",
            "my name is AKshay and marks is 99.99     \n",
            "my name is AKshay and marks is   99.99   \n",
            "AKshay scored 99.9887095 marks\n",
            "99.9887095 scored AKshay marks by mekfssfsdf\n"
          ]
        }
      ]
    },
    {
      "cell_type": "code",
      "source": [
        "a, b = input(\"ENter two number using space\").split()\n",
        "print ( a ,  \"--------------\",b)\n",
        "print(type(a))\n",
        "\n",
        "a, b = map(int,input(\"ENter two number using space\").split())\n",
        "print ( a ,  \"--------------\",b)\n",
        "print(type(a))\n"
      ],
      "metadata": {
        "colab": {
          "base_uri": "https://localhost:8080/"
        },
        "id": "HrwCc94NHHq4",
        "outputId": "d92fd9e2-f5ca-4e34-f0bb-8301acdf95bc"
      },
      "execution_count": null,
      "outputs": [
        {
          "output_type": "stream",
          "name": "stdout",
          "text": [
            "ENter two number using space3 5\n",
            "3 -------------- 5\n",
            "<class 'str'>\n",
            "ENter two number using space45 78\n",
            "45 -------------- 78\n",
            "<class 'int'>\n"
          ]
        }
      ]
    },
    {
      "cell_type": "code",
      "source": [
        "items = [\"apple\",23,\"2+3i\"]   # complex will alwyas take as string\n",
        "fruit = \"apple\"\n",
        "num = 23\n",
        "com = \"2+3j\"\n",
        "\n",
        "print(items)\n",
        "print(items)\n",
        "print(fruit in items)\n",
        "print(num in items)\n",
        "print(com in items)"
      ],
      "metadata": {
        "id": "mJiZQRu6Hw90",
        "colab": {
          "base_uri": "https://localhost:8080/"
        },
        "outputId": "14765340-4d0d-4040-aa38-17b732e91e3f"
      },
      "execution_count": null,
      "outputs": [
        {
          "output_type": "stream",
          "name": "stdout",
          "text": [
            "['apple', 23, '2+3i']\n",
            "['apple', 23, '2+3i']\n",
            "True\n",
            "True\n",
            "False\n"
          ]
        }
      ]
    },
    {
      "cell_type": "code",
      "source": [
        "a,b = map(int,input(\"Enter two numbe using space to swap: \").split(\"-\"))\n",
        "a,b = b,a\n",
        "print (a,b)"
      ],
      "metadata": {
        "colab": {
          "base_uri": "https://localhost:8080/"
        },
        "id": "ew92-12dKd6G",
        "outputId": "1c204ab3-d0a9-46d8-f0e3-e0b4df6e1608"
      },
      "execution_count": null,
      "outputs": [
        {
          "output_type": "stream",
          "name": "stdout",
          "text": [
            "Enter two numbe using space to swap: 45-5\n",
            "5 45\n"
          ]
        }
      ]
    }
  ]
}