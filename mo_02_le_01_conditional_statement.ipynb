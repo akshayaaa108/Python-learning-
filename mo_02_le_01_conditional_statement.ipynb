{
  "nbformat": 4,
  "nbformat_minor": 0,
  "metadata": {
    "colab": {
      "provenance": [],
      "authorship_tag": "ABX9TyO5k50xrUBp8UB3RpClhHHl",
      "include_colab_link": true
    },
    "kernelspec": {
      "name": "python3",
      "display_name": "Python 3"
    },
    "language_info": {
      "name": "python"
    }
  },
  "cells": [
    {
      "cell_type": "markdown",
      "metadata": {
        "id": "view-in-github",
        "colab_type": "text"
      },
      "source": [
        "<a href=\"https://colab.research.google.com/github/akshayaaa108/Python-learning-/blob/main/mo_02_le_01_conditional_statement.ipynb\" target=\"_parent\"><img src=\"https://colab.research.google.com/assets/colab-badge.svg\" alt=\"Open In Colab\"/></a>"
      ]
    },
    {
      "cell_type": "markdown",
      "source": [
        "If statement\n"
      ],
      "metadata": {
        "id": "seKANcQD4Qpb"
      }
    },
    {
      "cell_type": "code",
      "execution_count": null,
      "metadata": {
        "colab": {
          "base_uri": "https://localhost:8080/"
        },
        "id": "XKv7jZlrL8mo",
        "outputId": "58496535-fd4d-4c70-e33b-d0c9a3f43ca6"
      },
      "outputs": [
        {
          "output_type": "stream",
          "name": "stdout",
          "text": [
            "this is outside if statement\n"
          ]
        }
      ],
      "source": [
        "x = 10\n",
        "if x>10:\n",
        "  print(\"Positive number\")\n",
        "  print(\"this is also inside if statement\")\n",
        "print(\"this is outside if statement\")"
      ]
    },
    {
      "cell_type": "markdown",
      "source": [
        "if - else statement\n"
      ],
      "metadata": {
        "id": "rMkWghgZ4yE3"
      }
    },
    {
      "cell_type": "code",
      "source": [
        "x = -10\n",
        "if x >0:\n",
        "  print(\"Positive number\")\n",
        "else:\n",
        "  print(\"negative number\")"
      ],
      "metadata": {
        "colab": {
          "base_uri": "https://localhost:8080/"
        },
        "id": "eBjlPaDK44xN",
        "outputId": "a73fae84-c512-459d-cf5d-5ae56c2cafc9"
      },
      "execution_count": null,
      "outputs": [
        {
          "output_type": "stream",
          "name": "stdout",
          "text": [
            "negative number\n"
          ]
        }
      ]
    },
    {
      "cell_type": "markdown",
      "source": [
        "nested if\n"
      ],
      "metadata": {
        "id": "M3YXsQsD5Tbb"
      }
    },
    {
      "cell_type": "code",
      "source": [
        "x = -11\n",
        "if x >=0:\n",
        "  if x%2 == 0:\n",
        "    print(\"Positive even number\")\n",
        "  else:\n",
        "    print(\"Positive odd number\")\n",
        "else:\n",
        "  print (\"Negative number\")"
      ],
      "metadata": {
        "colab": {
          "base_uri": "https://localhost:8080/"
        },
        "id": "gQGjmMg85V_Q",
        "outputId": "63ea8b7d-4c93-4fc5-dd65-813b6453e918"
      },
      "execution_count": null,
      "outputs": [
        {
          "output_type": "stream",
          "name": "stdout",
          "text": [
            "Negative number\n"
          ]
        }
      ]
    },
    {
      "cell_type": "markdown",
      "source": [
        "TERnary operator\n"
      ],
      "metadata": {
        "id": "1zTmrPSV53_K"
      }
    },
    {
      "cell_type": "code",
      "source": [
        "x = 10\n",
        "result = \"EVEN\" if x%2==0 else \"odd\"\n",
        "print (result)"
      ],
      "metadata": {
        "colab": {
          "base_uri": "https://localhost:8080/"
        },
        "id": "_BgV-fnC568v",
        "outputId": "e00393c5-b070-4351-c101-ed47ab137feb"
      },
      "execution_count": null,
      "outputs": [
        {
          "output_type": "stream",
          "name": "stdout",
          "text": [
            "EVEN\n"
          ]
        }
      ]
    },
    {
      "cell_type": "markdown",
      "source": [
        "Python Truth value: except this everything in pyton is True"
      ],
      "metadata": {
        "id": "KGZJ7pE96saD"
      }
    },
    {
      "cell_type": "code",
      "source": [
        "print(bool(False))\n",
        "print(bool(0))\n",
        "print(bool(0.0))\n",
        "print(bool(0+0j))\n",
        "print(bool(\"\"))\n",
        "print(bool([]))\n",
        "print(bool(()))\n",
        "print(bool({}))\n",
        "print(bool(None))"
      ],
      "metadata": {
        "colab": {
          "base_uri": "https://localhost:8080/"
        },
        "id": "CU_Y3kOg6zC4",
        "outputId": "4f8d35c6-57ed-4be3-ce15-82b78e7eb606"
      },
      "execution_count": null,
      "outputs": [
        {
          "output_type": "stream",
          "name": "stdout",
          "text": [
            "False\n",
            "False\n",
            "False\n",
            "False\n",
            "False\n",
            "False\n",
            "False\n",
            "False\n",
            "False\n"
          ]
        }
      ]
    },
    {
      "cell_type": "code",
      "source": [
        "if 3-3:\n",
        "  print(\"it's not zero\")\n",
        "else:\n",
        "  print(\"it's zero\")"
      ],
      "metadata": {
        "colab": {
          "base_uri": "https://localhost:8080/"
        },
        "id": "OLm85KZ77TuF",
        "outputId": "aa533a99-4884-42a7-9562-b8b6544c53a4"
      },
      "execution_count": null,
      "outputs": [
        {
          "output_type": "stream",
          "name": "stdout",
          "text": [
            "it's zero\n"
          ]
        }
      ]
    },
    {
      "cell_type": "markdown",
      "source": [
        "pattern matching\n"
      ],
      "metadata": {
        "id": "8Mey7Bwl7l1w"
      }
    },
    {
      "cell_type": "code",
      "source": [
        "status = 405\n",
        "match status:\n",
        "  case 401|402|403:\n",
        "    print(\"client error\")\n",
        "  case 500|502:\n",
        "    print(\"server error\")\n",
        "  case _:\n",
        "    print(\"Unknown\")"
      ],
      "metadata": {
        "colab": {
          "base_uri": "https://localhost:8080/"
        },
        "id": "mLhVWIHY7rzk",
        "outputId": "3894c3fb-b008-4fe1-eb5c-77393cafb446"
      },
      "execution_count": null,
      "outputs": [
        {
          "output_type": "stream",
          "name": "stdout",
          "text": [
            "Unknown\n"
          ]
        }
      ]
    }
  ]
}