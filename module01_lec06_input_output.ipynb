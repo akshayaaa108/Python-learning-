{
  "nbformat": 4,
  "nbformat_minor": 0,
  "metadata": {
    "colab": {
      "provenance": [],
      "authorship_tag": "ABX9TyNr71F7lDwLJLv7zZ0Daeqp",
      "include_colab_link": true
    },
    "kernelspec": {
      "name": "python3",
      "display_name": "Python 3"
    },
    "language_info": {
      "name": "python"
    }
  },
  "cells": [
    {
      "cell_type": "markdown",
      "metadata": {
        "id": "view-in-github",
        "colab_type": "text"
      },
      "source": [
        "<a href=\"https://colab.research.google.com/github/akshayaaa108/Python-learning-/blob/main/module01_lec06_input_output.ipynb\" target=\"_parent\"><img src=\"https://colab.research.google.com/assets/colab-badge.svg\" alt=\"Open In Colab\"/></a>"
      ]
    },
    {
      "cell_type": "markdown",
      "source": [
        "printing the table with proper alingment:\n"
      ],
      "metadata": {
        "id": "__Yt9JnVVP6o"
      }
    },
    {
      "cell_type": "code",
      "source": [
        "print(\"printing the table with proper alingment: \")\n",
        "name = input()\n",
        "marks = input()\n",
        "print(f\"{name:<10}    {marks:<10}\")\n"
      ],
      "metadata": {
        "colab": {
          "base_uri": "https://localhost:8080/"
        },
        "id": "OG9tgwqHVVRH",
        "outputId": "1fdb0b5e-6737-4eb2-a6fe-0186f7a1f530"
      },
      "execution_count": null,
      "outputs": [
        {
          "output_type": "stream",
          "name": "stdout",
          "text": [
            "printing the table with proper alingment: \n",
            "adsfds\n",
            "12\n",
            "adsfds        12        \n"
          ]
        }
      ]
    },
    {
      "cell_type": "code",
      "source": [
        "num = 5\n",
        "print(f\"{num:05d}\")"
      ],
      "metadata": {
        "colab": {
          "base_uri": "https://localhost:8080/"
        },
        "id": "uvttcy2hVnWK",
        "outputId": "203208e8-b297-4e8f-e35b-34b9cc2a1d2c"
      },
      "execution_count": null,
      "outputs": [
        {
          "output_type": "stream",
          "name": "stdout",
          "text": [
            "00005\n"
          ]
        }
      ]
    },
    {
      "cell_type": "code",
      "source": [
        "print(\"ENter your name , age and college: \")\n",
        "name, age, college = input().split()\n",
        "print (f\"{name} {age} {college}\")\n"
      ],
      "metadata": {
        "colab": {
          "base_uri": "https://localhost:8080/"
        },
        "id": "ONC2E7P0WfZ2",
        "outputId": "746aa272-da1f-4f06-95c4-d0aaab6e2489"
      },
      "execution_count": null,
      "outputs": [
        {
          "output_type": "stream",
          "name": "stdout",
          "text": [
            "ENter your name , age and college: \n",
            "Akshay 26  HIT\n",
            "Akshay 26 HIT\n"
          ]
        }
      ]
    },
    {
      "cell_type": "markdown",
      "source": [
        "## using separater we remove the space and also add what we want."
      ],
      "metadata": {
        "id": "ol65luTuZ4tp"
      }
    },
    {
      "cell_type": "code",
      "source": [
        "print(\"name:\",\"Alice\",\"Age:\",21,sep=\"\")"
      ],
      "metadata": {
        "colab": {
          "base_uri": "https://localhost:8080/"
        },
        "id": "S8kaG_LaZo3i",
        "outputId": "9a26adc1-5e8f-4df2-bac4-34821b04608d"
      },
      "execution_count": null,
      "outputs": [
        {
          "output_type": "stream",
          "name": "stdout",
          "text": [
            "name:AliceAge:21\n"
          ]
        }
      ]
    },
    {
      "cell_type": "code",
      "source": [
        "print(\"name:\",\"Alice\",\"Age:\",21)"
      ],
      "metadata": {
        "colab": {
          "base_uri": "https://localhost:8080/"
        },
        "id": "A6PeJRmQZmcA",
        "outputId": "0f489cf7-c7bc-40cb-f8c7-7a1e2473af76"
      },
      "execution_count": null,
      "outputs": [
        {
          "output_type": "stream",
          "name": "stdout",
          "text": [
            "name: Alice Age: 21\n"
          ]
        }
      ]
    },
    {
      "cell_type": "code",
      "source": [
        "print(\"HEllo\")\n",
        "print(\"world\")"
      ],
      "metadata": {
        "colab": {
          "base_uri": "https://localhost:8080/"
        },
        "id": "zXyWTbzTZ0dG",
        "outputId": "62ba3369-fd8a-4ed9-b23c-a881cf665d9a"
      },
      "execution_count": null,
      "outputs": [
        {
          "output_type": "stream",
          "name": "stdout",
          "text": [
            "HEllo\n",
            "world\n"
          ]
        }
      ]
    },
    {
      "cell_type": "code",
      "source": [
        "print(\"HEllo\",end=\" \")\n",
        "print(\"world\")"
      ],
      "metadata": {
        "colab": {
          "base_uri": "https://localhost:8080/"
        },
        "id": "ozDMVQrwaRNc",
        "outputId": "37f2aba0-2ff0-40ea-9441-05eefb2cfd91"
      },
      "execution_count": null,
      "outputs": [
        {
          "output_type": "stream",
          "name": "stdout",
          "text": [
            "HEllo world\n"
          ]
        }
      ]
    },
    {
      "cell_type": "code",
      "source": [
        "name = \"Alice\"\n",
        "marks = 91.456\n",
        "print(name, \"scored\",marks,\"marks\")"
      ],
      "metadata": {
        "colab": {
          "base_uri": "https://localhost:8080/"
        },
        "id": "ooFf5fVGaWN8",
        "outputId": "8c2e9091-9e3b-49bb-adec-6016c4316fc6"
      },
      "execution_count": null,
      "outputs": [
        {
          "output_type": "stream",
          "name": "stdout",
          "text": [
            "Alice scored 91.456 marks\n"
          ]
        }
      ]
    },
    {
      "cell_type": "code",
      "source": [
        "print(f\"{name} scored {marks} marks\")"
      ],
      "metadata": {
        "colab": {
          "base_uri": "https://localhost:8080/"
        },
        "id": "sREWcodda485",
        "outputId": "7f1aa0f8-9b8d-4e7c-a23c-b28d4355a42f"
      },
      "execution_count": null,
      "outputs": [
        {
          "output_type": "stream",
          "name": "stdout",
          "text": [
            "Alice scored 91.456 marks\n"
          ]
        }
      ]
    },
    {
      "cell_type": "code",
      "source": [
        "price =  123.4567\n",
        "print('price:',price)\n",
        "print(f\"price: {price}\")\n",
        "print(f\"price (round to two decimal places): {price:.2f}\")\n",
        "print(f\"price (round to two decimal places and 10 spaces): {price:10.2f}\")\n",
        "print(f\"price (round to two decimal places and right align): {price:>10.2f}\")\n",
        "print(f\"price (round to two decimal places and centre align): {price:^10.2f}\")\n"
      ],
      "metadata": {
        "colab": {
          "base_uri": "https://localhost:8080/"
        },
        "id": "MVWZwbhsbDz1",
        "outputId": "3ae0fc57-f6fd-4682-9aed-0872d04479d0"
      },
      "execution_count": null,
      "outputs": [
        {
          "output_type": "stream",
          "name": "stdout",
          "text": [
            "price: 123.4567\n",
            "price: 123.4567\n",
            "price (round to two decimal places): 123.46\n",
            "price (round to two decimal places and 10 spaces):     123.46\n",
            "price (round to two decimal places and right align):     123.46\n",
            "price (round to two decimal places and centre align):   123.46  \n"
          ]
        }
      ]
    },
    {
      "cell_type": "code",
      "source": [
        "template = \"{} scored {} marks\"\n",
        "print(template.format(name, marks))"
      ],
      "metadata": {
        "colab": {
          "base_uri": "https://localhost:8080/"
        },
        "id": "819-b_fMbZwW",
        "outputId": "33365cb4-23a7-47bb-905d-bd5ca1e92d86"
      },
      "execution_count": null,
      "outputs": [
        {
          "output_type": "stream",
          "name": "stdout",
          "text": [
            "Alice scored 91.456 marks\n"
          ]
        }
      ]
    },
    {
      "cell_type": "code",
      "source": [
        "print(\"{1} scored {0} marks\".format(marks, name))"
      ],
      "metadata": {
        "colab": {
          "base_uri": "https://localhost:8080/"
        },
        "id": "jy8kTSPFeFsK",
        "outputId": "e9bb0628-dcac-4a25-a8f1-cafbee8a230f"
      },
      "execution_count": null,
      "outputs": [
        {
          "output_type": "stream",
          "name": "stdout",
          "text": [
            "Alice scored 91.456 marks\n"
          ]
        }
      ]
    },
    {
      "cell_type": "code",
      "source": [
        "print(\"{name} scored {marks}\".format(name = 'bob', marks=87.8765))"
      ],
      "metadata": {
        "colab": {
          "base_uri": "https://localhost:8080/"
        },
        "id": "72mKM2oKeWUZ",
        "outputId": "d2697e76-ef92-4438-c6d6-92990a0ff33a"
      },
      "execution_count": null,
      "outputs": [
        {
          "output_type": "stream",
          "name": "stdout",
          "text": [
            "bob scored 87.8765\n"
          ]
        }
      ]
    },
    {
      "cell_type": "code",
      "source": [],
      "metadata": {
        "id": "-pG8UaaFekiw"
      },
      "execution_count": null,
      "outputs": []
    },
    {
      "cell_type": "markdown",
      "source": [
        "##printing the table with proper alingment:\n",
        "By default left align\n",
        "\n"
      ],
      "metadata": {
        "id": "GjOkfN9IgSoG"
      }
    },
    {
      "cell_type": "code",
      "source": [
        "template = \"{:<13} {:<5}\"\n",
        "print(template.format(\"Name\",\"Marks\"))\n",
        "print(template.format(\"Alice\",\"91\"))\n",
        "print(template.format(\"Bob\",\"88\"))\n",
        "print(template.format(\"charlie\",\"95\"))"
      ],
      "metadata": {
        "colab": {
          "base_uri": "https://localhost:8080/"
        },
        "id": "dEm2YNnIgVcB",
        "outputId": "7391cdc4-42d2-4d09-f520-47cb11c63236"
      },
      "execution_count": null,
      "outputs": [
        {
          "output_type": "stream",
          "name": "stdout",
          "text": [
            "Name          Marks\n",
            "Alice         91   \n",
            "Bob           88   \n",
            "charlie       95   \n"
          ]
        }
      ]
    },
    {
      "cell_type": "code",
      "source": [],
      "metadata": {
        "id": "UYuI4_3LgrSc"
      },
      "execution_count": null,
      "outputs": []
    },
    {
      "cell_type": "markdown",
      "source": [
        "## Python output\n"
      ],
      "metadata": {
        "id": "FQ2GtVyghf7f"
      }
    },
    {
      "cell_type": "markdown",
      "source": [],
      "metadata": {
        "id": "S_XhiRd5hjAm"
      }
    },
    {
      "cell_type": "code",
      "source": [
        "a = input()\n",
        "\n"
      ],
      "metadata": {
        "colab": {
          "base_uri": "https://localhost:8080/"
        },
        "id": "XD9MxwsIh6PE",
        "outputId": "c3fd83b3-477c-44cf-8dfc-2edc54b7dcf5"
      },
      "execution_count": null,
      "outputs": [
        {
          "name": "stdout",
          "output_type": "stream",
          "text": [
            "24\n"
          ]
        }
      ]
    },
    {
      "cell_type": "code",
      "source": [
        "print(a)"
      ],
      "metadata": {
        "colab": {
          "base_uri": "https://localhost:8080/"
        },
        "id": "CY6vdYIIh9SV",
        "outputId": "a600598d-4341-4a31-e216-9b3a9f0e6e68"
      },
      "execution_count": null,
      "outputs": [
        {
          "output_type": "stream",
          "name": "stdout",
          "text": [
            "24\n"
          ]
        }
      ]
    },
    {
      "cell_type": "code",
      "source": [
        "name = input(\"ENter ypur name: \")\n",
        "print (\"Hello\",name)"
      ],
      "metadata": {
        "colab": {
          "base_uri": "https://localhost:8080/"
        },
        "id": "as50TktyiA6K",
        "outputId": "c1f4cee1-c596-4a2d-bd45-ed76dda15645"
      },
      "execution_count": null,
      "outputs": [
        {
          "output_type": "stream",
          "name": "stdout",
          "text": [
            "ENter ypur name: adadsf\n",
            "Hello adadsf\n"
          ]
        }
      ]
    },
    {
      "cell_type": "code",
      "source": [
        "age = input(\"Enter your age : \")\n",
        "print(age)"
      ],
      "metadata": {
        "colab": {
          "base_uri": "https://localhost:8080/"
        },
        "id": "HXFbLedWiGi5",
        "outputId": "0e21cd42-562c-4417-9aa2-b4eb2ac0853f"
      },
      "execution_count": null,
      "outputs": [
        {
          "output_type": "stream",
          "name": "stdout",
          "text": [
            "Enter your age : 34\n",
            "34\n"
          ]
        }
      ]
    },
    {
      "cell_type": "code",
      "source": [
        "type(age)"
      ],
      "metadata": {
        "colab": {
          "base_uri": "https://localhost:8080/"
        },
        "id": "ftjDYTpsin4m",
        "outputId": "ad095d9d-645f-4d07-e3c1-df8c88937b19"
      },
      "execution_count": null,
      "outputs": [
        {
          "output_type": "execute_result",
          "data": {
            "text/plain": [
              "str"
            ]
          },
          "metadata": {},
          "execution_count": 35
        }
      ]
    },
    {
      "cell_type": "code",
      "source": [
        "age = int(input(\"Enter ur age: \"))\n",
        "print(age)"
      ],
      "metadata": {
        "colab": {
          "base_uri": "https://localhost:8080/"
        },
        "id": "xnf-TyPuiqC_",
        "outputId": "1b331b0a-1f33-4d2d-8e75-765a31a8a540"
      },
      "execution_count": null,
      "outputs": [
        {
          "output_type": "stream",
          "name": "stdout",
          "text": [
            "Enter ur age: 34\n",
            "34\n"
          ]
        }
      ]
    },
    {
      "cell_type": "code",
      "source": [
        "type(age)"
      ],
      "metadata": {
        "colab": {
          "base_uri": "https://localhost:8080/"
        },
        "id": "9oxyfR72ixMJ",
        "outputId": "e2ed9526-4a93-491b-b90a-0845ee7491be"
      },
      "execution_count": null,
      "outputs": [
        {
          "output_type": "execute_result",
          "data": {
            "text/plain": [
              "int"
            ]
          },
          "metadata": {},
          "execution_count": 37
        }
      ]
    },
    {
      "cell_type": "code",
      "source": [
        "input()\n"
      ],
      "metadata": {
        "colab": {
          "base_uri": "https://localhost:8080/",
          "height": 52
        },
        "id": "o7kElk-Jiz27",
        "outputId": "cc259987-9557-4d55-e56a-15976a342401"
      },
      "execution_count": null,
      "outputs": [
        {
          "name": "stdout",
          "output_type": "stream",
          "text": [
            "234 454'\n"
          ]
        },
        {
          "output_type": "execute_result",
          "data": {
            "text/plain": [
              "\"234 454'\""
            ],
            "application/vnd.google.colaboratory.intrinsic+json": {
              "type": "string"
            }
          },
          "metadata": {},
          "execution_count": 38
        }
      ]
    },
    {
      "cell_type": "code",
      "source": [
        "a, b = input(\"Enter two number\").split()"
      ],
      "metadata": {
        "colab": {
          "base_uri": "https://localhost:8080/"
        },
        "id": "sdQ4nVAojQBu",
        "outputId": "b3547b7d-9236-442d-8278-e4ebfcc07c9a"
      },
      "execution_count": null,
      "outputs": [
        {
          "name": "stdout",
          "output_type": "stream",
          "text": [
            "Enter two number23 45\n"
          ]
        }
      ]
    },
    {
      "cell_type": "code",
      "source": [
        "print(a,type(a),b,type(b))"
      ],
      "metadata": {
        "colab": {
          "base_uri": "https://localhost:8080/"
        },
        "id": "ZwHBej_KjZKo",
        "outputId": "da8c7420-aa71-42e0-aeb5-8c7c6f137d90"
      },
      "execution_count": null,
      "outputs": [
        {
          "output_type": "stream",
          "name": "stdout",
          "text": [
            "23 <class 'str'> 45 <class 'str'>\n"
          ]
        }
      ]
    },
    {
      "cell_type": "markdown",
      "source": [],
      "metadata": {
        "id": "7AyggNnLj8sK"
      }
    },
    {
      "cell_type": "markdown",
      "source": [
        "as both are string so i'll map both to integer.\n"
      ],
      "metadata": {
        "id": "OF-Ivd24jhY1"
      }
    },
    {
      "cell_type": "code",
      "source": [
        "a,b = map(int,input(\"Enter two numbers: \").split())"
      ],
      "metadata": {
        "colab": {
          "base_uri": "https://localhost:8080/"
        },
        "id": "QGHxFulkje04",
        "outputId": "f25c5fe6-4b52-492d-baa8-0ee93684f247"
      },
      "execution_count": null,
      "outputs": [
        {
          "name": "stdout",
          "output_type": "stream",
          "text": [
            "Enter two numbers: 34 56\n"
          ]
        }
      ]
    },
    {
      "cell_type": "code",
      "source": [
        "print(a,type(a),b,type(b))\n"
      ],
      "metadata": {
        "colab": {
          "base_uri": "https://localhost:8080/"
        },
        "id": "jBmRGA63jxU5",
        "outputId": "0a04860b-0d49-4093-8e58-6118328f2c03"
      },
      "execution_count": null,
      "outputs": [
        {
          "output_type": "stream",
          "name": "stdout",
          "text": [
            "34 <class 'int'> 56 <class 'int'>\n"
          ]
        }
      ]
    },
    {
      "cell_type": "code",
      "source": [],
      "metadata": {
        "id": "gShEGAnnj-K8"
      },
      "execution_count": null,
      "outputs": []
    },
    {
      "cell_type": "markdown",
      "source": [
        "Read three space separated integer and print their product\n"
      ],
      "metadata": {
        "id": "RzAkzhoNkRS7"
      }
    },
    {
      "cell_type": "code",
      "source": [
        "a,b, c = map(int , input(\"Enter theree space separated integer: \").split())\n",
        "print(a*b*c)"
      ],
      "metadata": {
        "colab": {
          "base_uri": "https://localhost:8080/"
        },
        "id": "ErG4BlsekYMc",
        "outputId": "95397ea0-c468-4c3c-d026-4b12ebfa5b02"
      },
      "execution_count": null,
      "outputs": [
        {
          "output_type": "stream",
          "name": "stdout",
          "text": [
            "Enter theree space separated integer: 2 3 4\n",
            "24\n"
          ]
        }
      ]
    },
    {
      "cell_type": "code",
      "source": [],
      "metadata": {
        "id": "o7Bnmf4Zkhjg"
      },
      "execution_count": null,
      "outputs": []
    }
  ]
}