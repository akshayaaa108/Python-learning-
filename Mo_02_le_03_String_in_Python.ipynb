{
  "nbformat": 4,
  "nbformat_minor": 0,
  "metadata": {
    "colab": {
      "provenance": [],
      "authorship_tag": "ABX9TyMh+EZQtdku6SXByKrZ5YSD",
      "include_colab_link": true
    },
    "kernelspec": {
      "name": "python3",
      "display_name": "Python 3"
    },
    "language_info": {
      "name": "python"
    }
  },
  "cells": [
    {
      "cell_type": "markdown",
      "metadata": {
        "id": "view-in-github",
        "colab_type": "text"
      },
      "source": [
        "<a href=\"https://colab.research.google.com/github/akshayaaa108/Python-learning-/blob/main/Mo_02_le_03_String_in_Python.ipynb\" target=\"_parent\"><img src=\"https://colab.research.google.com/assets/colab-badge.svg\" alt=\"Open In Colab\"/></a>"
      ]
    },
    {
      "cell_type": "code",
      "execution_count": null,
      "metadata": {
        "colab": {
          "base_uri": "https://localhost:8080/"
        },
        "id": "5JhdL3tT7xCu",
        "outputId": "e4bb9683-bde1-4a2c-cb61-d5a53715d220"
      },
      "outputs": [
        {
          "output_type": "stream",
          "name": "stdout",
          "text": [
            "65\n",
            "A\n"
          ]
        }
      ],
      "source": [
        "print(ord('A'))\n",
        "ord('0')\n",
        "ord('a')\n",
        "print(chr(65))"
      ]
    },
    {
      "cell_type": "markdown",
      "source": [
        "creating strings"
      ],
      "metadata": {
        "id": "-a9pu_4FFdDl"
      }
    },
    {
      "cell_type": "code",
      "source": [
        "s1 = 'Hello'\n",
        "s2 = \"World\"\n",
        "s3 = \"\"\"This is a\n",
        "multiline string\"\"\"\n",
        "s4 = ''' THis is a\n",
        "multiline string'''\n",
        "\n",
        "print(s1)\n",
        "print(s2)\n",
        "print(s3)\n",
        "print(s4)\n"
      ],
      "metadata": {
        "colab": {
          "base_uri": "https://localhost:8080/"
        },
        "id": "v7IPv3hYFfN2",
        "outputId": "8c67136b-36f8-4b8a-91ce-256e63255672"
      },
      "execution_count": null,
      "outputs": [
        {
          "output_type": "stream",
          "name": "stdout",
          "text": [
            "Hello\n",
            "World\n",
            "This is a \n",
            "multiline string\n",
            " THis is a \n",
            "multiline string\n"
          ]
        }
      ]
    },
    {
      "cell_type": "code",
      "source": [
        "'hi'== \"hi\""
      ],
      "metadata": {
        "colab": {
          "base_uri": "https://localhost:8080/"
        },
        "id": "zHfZ4V4gF8H5",
        "outputId": "79bbd769-fc50-49a1-9b43-150fe2a8c071"
      },
      "execution_count": null,
      "outputs": [
        {
          "output_type": "execute_result",
          "data": {
            "text/plain": [
              "True"
            ]
          },
          "metadata": {},
          "execution_count": 6
        }
      ]
    },
    {
      "cell_type": "code",
      "source": [
        "\"\"\"Hi\n",
        "Hello\"\"\" == '''Hi\n",
        "Hello'''"
      ],
      "metadata": {
        "colab": {
          "base_uri": "https://localhost:8080/"
        },
        "id": "-yiEnf3bGBmh",
        "outputId": "648e934b-b834-4597-c8d3-e3f648c629e1"
      },
      "execution_count": null,
      "outputs": [
        {
          "output_type": "execute_result",
          "data": {
            "text/plain": [
              "True"
            ]
          },
          "metadata": {},
          "execution_count": 8
        }
      ]
    },
    {
      "cell_type": "markdown",
      "source": [
        "String immutable\n"
      ],
      "metadata": {
        "id": "cRrMZ5aiGQl2"
      }
    },
    {
      "cell_type": "code",
      "source": [
        "S  = \"HEllo\"\n",
        "S[1]= \"g\" # type error\n"
      ],
      "metadata": {
        "colab": {
          "base_uri": "https://localhost:8080/",
          "height": 158
        },
        "id": "syfBUWtEGQLB",
        "outputId": "0ab682db-56ff-45cb-9002-8a4d89c0a90a"
      },
      "execution_count": null,
      "outputs": [
        {
          "output_type": "error",
          "ename": "TypeError",
          "evalue": "'str' object does not support item assignment",
          "traceback": [
            "\u001b[0;31m---------------------------------------------------------------------------\u001b[0m",
            "\u001b[0;31mTypeError\u001b[0m                                 Traceback (most recent call last)",
            "\u001b[0;32m/tmp/ipython-input-3174714324.py\u001b[0m in \u001b[0;36m<cell line: 0>\u001b[0;34m()\u001b[0m\n\u001b[1;32m      1\u001b[0m \u001b[0mS\u001b[0m  \u001b[0;34m=\u001b[0m \u001b[0;34m\"HEllo\"\u001b[0m\u001b[0;34m\u001b[0m\u001b[0;34m\u001b[0m\u001b[0m\n\u001b[0;32m----> 2\u001b[0;31m \u001b[0mS\u001b[0m\u001b[0;34m[\u001b[0m\u001b[0;36m1\u001b[0m\u001b[0;34m]\u001b[0m\u001b[0;34m=\u001b[0m \u001b[0;34m\"g\"\u001b[0m\u001b[0;34m\u001b[0m\u001b[0;34m\u001b[0m\u001b[0m\n\u001b[0m",
            "\u001b[0;31mTypeError\u001b[0m: 'str' object does not support item assignment"
          ]
        }
      ]
    },
    {
      "cell_type": "markdown",
      "source": [
        "len() Function\n"
      ],
      "metadata": {
        "id": "HdJH4YfZGjDz"
      }
    },
    {
      "cell_type": "code",
      "source": [
        "s = \"Hello \"\n",
        "print(len(s))\n",
        "t = \"Hello \\n World\"\n",
        "print(t)\n",
        "print(len(t))"
      ],
      "metadata": {
        "colab": {
          "base_uri": "https://localhost:8080/"
        },
        "id": "Cl_aQch_Gq_H",
        "outputId": "441c8664-480d-40f3-fed9-f692df760fa4"
      },
      "execution_count": null,
      "outputs": [
        {
          "output_type": "stream",
          "name": "stdout",
          "text": [
            "6\n",
            "Hello \n",
            " World\n",
            "13\n"
          ]
        }
      ]
    },
    {
      "cell_type": "markdown",
      "source": [
        "Accessing and slicing\n"
      ],
      "metadata": {
        "id": "jA0L45xfHZfk"
      }
    },
    {
      "cell_type": "code",
      "source": [
        "s = \"SAMpath\"\n",
        "print(s[0])\n",
        "print(s[1])\n",
        "print(s[2])\n",
        "print(s[3])\n",
        "print(s[4])\n",
        "print(s[5])\n",
        "print(s[6])\n",
        "s = \"shah\"\n",
        "print(s[-1])\n",
        "print(s[-2])\n",
        "print(s[-3])\n",
        "print(s[-4])\n",
        "\n",
        "\n"
      ],
      "metadata": {
        "colab": {
          "base_uri": "https://localhost:8080/"
        },
        "id": "NIsUUdaeHb0w",
        "outputId": "c2124219-6542-4387-90f8-f432a77792f3"
      },
      "execution_count": null,
      "outputs": [
        {
          "output_type": "stream",
          "name": "stdout",
          "text": [
            "S\n",
            "A\n",
            "M\n",
            "p\n",
            "a\n",
            "t\n",
            "h\n",
            "h\n",
            "a\n",
            "h\n",
            "s\n"
          ]
        }
      ]
    },
    {
      "cell_type": "code",
      "source": [
        "s = \"AKshay\"\n",
        "print(s[10])  # While accessing out of bound give error"
      ],
      "metadata": {
        "colab": {
          "base_uri": "https://localhost:8080/",
          "height": 158
        },
        "id": "r_RD7T6SH1d1",
        "outputId": "e49d18c8-43d1-4193-aa0d-52f8c840f3f6"
      },
      "execution_count": null,
      "outputs": [
        {
          "output_type": "error",
          "ename": "IndexError",
          "evalue": "string index out of range",
          "traceback": [
            "\u001b[0;31m---------------------------------------------------------------------------\u001b[0m",
            "\u001b[0;31mIndexError\u001b[0m                                Traceback (most recent call last)",
            "\u001b[0;32m/tmp/ipython-input-2765803495.py\u001b[0m in \u001b[0;36m<cell line: 0>\u001b[0;34m()\u001b[0m\n\u001b[1;32m      1\u001b[0m \u001b[0ms\u001b[0m \u001b[0;34m=\u001b[0m \u001b[0;34m\"AKshay\"\u001b[0m\u001b[0;34m\u001b[0m\u001b[0;34m\u001b[0m\u001b[0m\n\u001b[0;32m----> 2\u001b[0;31m \u001b[0mprint\u001b[0m\u001b[0;34m(\u001b[0m\u001b[0ms\u001b[0m\u001b[0;34m[\u001b[0m\u001b[0;36m10\u001b[0m\u001b[0;34m]\u001b[0m\u001b[0;34m)\u001b[0m\u001b[0;34m\u001b[0m\u001b[0;34m\u001b[0m\u001b[0m\n\u001b[0m",
            "\u001b[0;31mIndexError\u001b[0m: string index out of range"
          ]
        }
      ]
    },
    {
      "cell_type": "code",
      "source": [
        "s = \"GatePutho\"\n",
        "print(s[4:10])\n",
        "print(s[::-1])\n",
        "print(s[0:-3])\n",
        "print(s[2:-2:2])"
      ],
      "metadata": {
        "colab": {
          "base_uri": "https://localhost:8080/"
        },
        "id": "HMbSqQYBIHPA",
        "outputId": "261f9460-666e-46e7-e6e4-0c898c16518d"
      },
      "execution_count": null,
      "outputs": [
        {
          "output_type": "stream",
          "name": "stdout",
          "text": [
            "Putho\n",
            "ohtuPetaG\n",
            "GatePu\n",
            "tPt\n"
          ]
        }
      ]
    },
    {
      "cell_type": "markdown",
      "source": [
        "String Operators\n"
      ],
      "metadata": {
        "id": "J_N_IRv2I9qL"
      }
    },
    {
      "cell_type": "code",
      "source": [
        "print(\"Hello\",\"World\",sep=\"-\")\n",
        "print(\"Hello\"+\"World\")\n",
        "print(\"HEllo\"*3)\n",
        "print(3*\"Hello\")"
      ],
      "metadata": {
        "colab": {
          "base_uri": "https://localhost:8080/"
        },
        "id": "Rk8wp1LnJBLo",
        "outputId": "fd09db9c-0ed4-4506-9207-a4fe7cf53564"
      },
      "execution_count": null,
      "outputs": [
        {
          "output_type": "stream",
          "name": "stdout",
          "text": [
            "Hello-World\n",
            "HelloWorld\n",
            "HElloHElloHEllo\n",
            "HelloHelloHello\n"
          ]
        }
      ]
    },
    {
      "cell_type": "code",
      "source": [
        "'E' in \"SamE\""
      ],
      "metadata": {
        "colab": {
          "base_uri": "https://localhost:8080/"
        },
        "id": "4aS-uOSYJfR4",
        "outputId": "7b8754aa-88b2-480b-afce-5ff24a0097cc"
      },
      "execution_count": null,
      "outputs": [
        {
          "output_type": "execute_result",
          "data": {
            "text/plain": [
              "True"
            ]
          },
          "metadata": {},
          "execution_count": 26
        }
      ]
    },
    {
      "cell_type": "code",
      "source": [
        "\"abc\"=='abc'"
      ],
      "metadata": {
        "colab": {
          "base_uri": "https://localhost:8080/"
        },
        "id": "zLBNQhlwJqqO",
        "outputId": "0f70e0b4-e78b-44b7-b962-da19ba09f5fb"
      },
      "execution_count": null,
      "outputs": [
        {
          "output_type": "execute_result",
          "data": {
            "text/plain": [
              "True"
            ]
          },
          "metadata": {},
          "execution_count": 27
        }
      ]
    },
    {
      "cell_type": "markdown",
      "source": [
        "String Methods"
      ],
      "metadata": {
        "id": "4GEloElAKEFk"
      }
    },
    {
      "cell_type": "markdown",
      "source": [
        "case conversion method\n"
      ],
      "metadata": {
        "id": "9aN4ktHxKLQm"
      }
    },
    {
      "cell_type": "code",
      "source": [
        "s = \"heLLO woRLds\"\n",
        "print(s.upper())\n",
        "print(s.lower())\n",
        "print(s.capitalize())\n",
        "print(s.title())\n",
        "print(s.swapcase())"
      ],
      "metadata": {
        "colab": {
          "base_uri": "https://localhost:8080/"
        },
        "id": "YT_WmWEoKOLy",
        "outputId": "c80110ca-25a6-4987-e8e6-dbba31717759"
      },
      "execution_count": null,
      "outputs": [
        {
          "output_type": "stream",
          "name": "stdout",
          "text": [
            "HELLO WORLDS\n",
            "hello worlds\n",
            "Hello worlds\n",
            "Hello Worlds\n",
            "HEllo WOrlDS\n"
          ]
        }
      ]
    },
    {
      "cell_type": "markdown",
      "source": [
        "Searching and Finding methods"
      ],
      "metadata": {
        "id": "R94IDi82K31i"
      }
    },
    {
      "cell_type": "code",
      "source": [
        "s = \"Hello World\"\n",
        "print(s.find('o'))\n",
        "print(s.find('t'))\n",
        "print(s.index('o'))\n",
        "print(s.index('t'))  #errror as not present"
      ],
      "metadata": {
        "colab": {
          "base_uri": "https://localhost:8080/",
          "height": 245
        },
        "id": "8E_0Df5GK77R",
        "outputId": "9343ebbe-e580-44f1-fd21-9cb42d4afbbd"
      },
      "execution_count": null,
      "outputs": [
        {
          "output_type": "stream",
          "name": "stdout",
          "text": [
            "4\n",
            "-1\n",
            "4\n"
          ]
        },
        {
          "output_type": "error",
          "ename": "ValueError",
          "evalue": "substring not found",
          "traceback": [
            "\u001b[0;31m---------------------------------------------------------------------------\u001b[0m",
            "\u001b[0;31mValueError\u001b[0m                                Traceback (most recent call last)",
            "\u001b[0;32m/tmp/ipython-input-2542679322.py\u001b[0m in \u001b[0;36m<cell line: 0>\u001b[0;34m()\u001b[0m\n\u001b[1;32m      3\u001b[0m \u001b[0mprint\u001b[0m\u001b[0;34m(\u001b[0m\u001b[0ms\u001b[0m\u001b[0;34m.\u001b[0m\u001b[0mfind\u001b[0m\u001b[0;34m(\u001b[0m\u001b[0;34m't'\u001b[0m\u001b[0;34m)\u001b[0m\u001b[0;34m)\u001b[0m\u001b[0;34m\u001b[0m\u001b[0;34m\u001b[0m\u001b[0m\n\u001b[1;32m      4\u001b[0m \u001b[0mprint\u001b[0m\u001b[0;34m(\u001b[0m\u001b[0ms\u001b[0m\u001b[0;34m.\u001b[0m\u001b[0mindex\u001b[0m\u001b[0;34m(\u001b[0m\u001b[0;34m'o'\u001b[0m\u001b[0;34m)\u001b[0m\u001b[0;34m)\u001b[0m\u001b[0;34m\u001b[0m\u001b[0;34m\u001b[0m\u001b[0m\n\u001b[0;32m----> 5\u001b[0;31m \u001b[0mprint\u001b[0m\u001b[0;34m(\u001b[0m\u001b[0ms\u001b[0m\u001b[0;34m.\u001b[0m\u001b[0mindex\u001b[0m\u001b[0;34m(\u001b[0m\u001b[0;34m't'\u001b[0m\u001b[0;34m)\u001b[0m\u001b[0;34m)\u001b[0m  \u001b[0;31m#errror as not present\u001b[0m\u001b[0;34m\u001b[0m\u001b[0;34m\u001b[0m\u001b[0m\n\u001b[0m\u001b[1;32m      6\u001b[0m \u001b[0mprint\u001b[0m\u001b[0;34m(\u001b[0m\u001b[0ms\u001b[0m\u001b[0;34m.\u001b[0m\u001b[0mrfind\u001b[0m\u001b[0;34m(\u001b[0m\u001b[0;34m'o'\u001b[0m\u001b[0;34m)\u001b[0m\u001b[0;34m)\u001b[0m\u001b[0;34m\u001b[0m\u001b[0;34m\u001b[0m\u001b[0m\n",
            "\u001b[0;31mValueError\u001b[0m: substring not found"
          ]
        }
      ]
    },
    {
      "cell_type": "code",
      "source": [
        "print(s.rfind('o'))\n",
        "print(s.count('o'))\n",
        "print(s.startswith('He'))\n",
        "print(s.endswith('ld'))"
      ],
      "metadata": {
        "colab": {
          "base_uri": "https://localhost:8080/"
        },
        "id": "Ipm1rl3RLgE_",
        "outputId": "d606413d-b0ff-406e-e10c-89741a8c7c64"
      },
      "execution_count": null,
      "outputs": [
        {
          "output_type": "stream",
          "name": "stdout",
          "text": [
            "7\n",
            "2\n",
            "True\n",
            "True\n"
          ]
        }
      ]
    },
    {
      "cell_type": "markdown",
      "source": [
        "REplacing and Splitting methods"
      ],
      "metadata": {
        "id": "0HWynUTjLxuk"
      }
    },
    {
      "cell_type": "code",
      "source": [
        "s = \"Hello World\"\n",
        "print(s.replace(\"World\",\"Python\"))\n",
        "print(s.split())\n",
        "print(s.split(\"o\"))\n",
        "print(s.partition('o'))"
      ],
      "metadata": {
        "colab": {
          "base_uri": "https://localhost:8080/"
        },
        "id": "RVkbzzwrL14s",
        "outputId": "06b64bf8-550d-4247-b6bf-1ceee18ab476"
      },
      "execution_count": null,
      "outputs": [
        {
          "output_type": "stream",
          "name": "stdout",
          "text": [
            "Hello Python\n",
            "['Hello', 'World']\n",
            "['Hell', ' W', 'rld']\n",
            "('Hell', 'o', ' World')\n"
          ]
        }
      ]
    },
    {
      "cell_type": "markdown",
      "source": [],
      "metadata": {
        "id": "kKQZEGc6IGBb"
      }
    },
    {
      "cell_type": "markdown",
      "source": [
        "WhiteSpace Handling"
      ],
      "metadata": {
        "id": "sylrHskmMm5B"
      }
    },
    {
      "cell_type": "code",
      "source": [
        "s  = \"  Hello  world    \"\n",
        "print(s.strip())\n",
        "print(s.rstrip())\n",
        "print(s.lstrip())"
      ],
      "metadata": {
        "colab": {
          "base_uri": "https://localhost:8080/"
        },
        "id": "B3GSuFCGMp-a",
        "outputId": "1749d9dc-1c16-4f26-bc17-72e2232d8cc5"
      },
      "execution_count": null,
      "outputs": [
        {
          "output_type": "stream",
          "name": "stdout",
          "text": [
            "Hello  world\n",
            "  Hello  world\n",
            "Hello  world    \n"
          ]
        }
      ]
    },
    {
      "cell_type": "markdown",
      "source": [
        "Joining string"
      ],
      "metadata": {
        "id": "V3kt-5dYNFaW"
      }
    },
    {
      "cell_type": "code",
      "source": [
        "li = ['Hello','String','!']\n",
        "print(\"-\".join(li))\n",
        "print(\"HEllo\",\"World\",\"!\",sep=\"-\")"
      ],
      "metadata": {
        "colab": {
          "base_uri": "https://localhost:8080/"
        },
        "id": "oPDu6bhoNFC5",
        "outputId": "67ff683d-66a7-465c-9f37-56ab4abdbffa"
      },
      "execution_count": null,
      "outputs": [
        {
          "output_type": "stream",
          "name": "stdout",
          "text": [
            "Hello-String-!\n",
            "HEllo-World-!\n"
          ]
        }
      ]
    },
    {
      "cell_type": "markdown",
      "source": [
        "Content testing method\n"
      ],
      "metadata": {
        "id": "9BEAd23MNmFY"
      }
    },
    {
      "cell_type": "code",
      "source": [
        "s1=\"asdf\"\n",
        "s2=\"234\"\n",
        "s3=\"df234df3\"\n",
        "s4=\"HELLO-WORLD\"\n",
        "print(s1.isalpha())\n",
        "print(s2.isdigit())\n",
        "print(s3.isalnum())\n",
        "print(s4.isupper())\n",
        "print(s4.islower())"
      ],
      "metadata": {
        "colab": {
          "base_uri": "https://localhost:8080/"
        },
        "id": "wsSSWn6kNq1O",
        "outputId": "94ebd35c-3b11-428f-a98e-03106ca149b5"
      },
      "execution_count": null,
      "outputs": [
        {
          "output_type": "stream",
          "name": "stdout",
          "text": [
            "True\n",
            "True\n",
            "True\n",
            "True\n",
            "False\n"
          ]
        }
      ]
    },
    {
      "cell_type": "markdown",
      "source": [
        "Escape Character"
      ],
      "metadata": {
        "id": "FS6E3GR6PL3n"
      }
    },
    {
      "cell_type": "code",
      "source": [
        "print(\"Hello\\tWorld\")\n",
        "print(\"Hello\\nWorld\")\n",
        "print(\"Hello\\\"World\")\n",
        "print('Hello\\'world')"
      ],
      "metadata": {
        "colab": {
          "base_uri": "https://localhost:8080/"
        },
        "id": "d68QU9fNPOwx",
        "outputId": "4de98b17-780d-4c22-dfda-abd577bcf4c3"
      },
      "execution_count": null,
      "outputs": [
        {
          "output_type": "stream",
          "name": "stdout",
          "text": [
            "Hello\tWorld\n",
            "Hello\n",
            "World\n",
            "Hello\"World\n",
            "Hello'world\n"
          ]
        }
      ]
    },
    {
      "cell_type": "markdown",
      "source": [
        "program to count vowels in a stirng\n"
      ],
      "metadata": {
        "id": "8yj1xnReP4Nh"
      }
    },
    {
      "cell_type": "code",
      "source": [
        "toCheck = input(\"Enter the string\")\n",
        "vowel = \"aeiouAEIOU\"\n",
        "count = 0\n",
        "for s in toCheck:\n",
        "  if s in vowel:\n",
        "    count +=1\n",
        "\n",
        "print(f\"{toCheck} has {count} no of vowels\")"
      ],
      "metadata": {
        "colab": {
          "base_uri": "https://localhost:8080/"
        },
        "id": "n2h4OdJxTd7Y",
        "outputId": "f6311c6c-a53d-4e51-81de-d93daef0f631"
      },
      "execution_count": null,
      "outputs": [
        {
          "output_type": "stream",
          "name": "stdout",
          "text": [
            "Enter the stringsfds324srtooo\n",
            "sfds324srtooo has 3 no of vowels\n"
          ]
        }
      ]
    },
    {
      "cell_type": "markdown",
      "source": [
        "To check palindrome"
      ],
      "metadata": {
        "id": "IZvmbC2aUJKo"
      }
    },
    {
      "cell_type": "code",
      "source": [
        "pal = input(\"ENter the string to check palindrome: \")\n",
        "if pal == pal[::-1]:\n",
        "  print(f\"{pal} is palindrome\")\n",
        "else:\n",
        "  print(\"Not palindrome\")"
      ],
      "metadata": {
        "colab": {
          "base_uri": "https://localhost:8080/"
        },
        "id": "nE8zLbnfUIzw",
        "outputId": "1de1418b-9ecd-4ec6-943d-46ec6fb0c139"
      },
      "execution_count": null,
      "outputs": [
        {
          "output_type": "stream",
          "name": "stdout",
          "text": [
            "ENter the string to check palindrome: akjajka\n",
            "akjajka is palindrome\n"
          ]
        }
      ]
    },
    {
      "cell_type": "markdown",
      "source": [
        "Remove all digit from a string\n"
      ],
      "metadata": {
        "id": "Wd881XLOUuwi"
      }
    },
    {
      "cell_type": "code",
      "source": [
        "s = input(\"Enter the string: \")\n",
        "new = \"\"\n",
        "for a in s:\n",
        "  if a.isdigit():\n",
        "    a.replace(a,\"\")\n",
        "  else:\n",
        "    new += a\n",
        "print(new)\n"
      ],
      "metadata": {
        "colab": {
          "base_uri": "https://localhost:8080/"
        },
        "id": "lLPmp1nzTCV4",
        "outputId": "c649b626-341d-43a0-f745-33259080545b"
      },
      "execution_count": null,
      "outputs": [
        {
          "output_type": "stream",
          "name": "stdout",
          "text": [
            "Enter the string: sdf4r4r5frtgt67\n",
            "sdfrrfrtgt\n"
          ]
        }
      ]
    },
    {
      "cell_type": "markdown",
      "source": [
        "captilize first letter of each word in a sentence\n"
      ],
      "metadata": {
        "id": "DsxyH6qEVUYy"
      }
    },
    {
      "cell_type": "code",
      "source": [
        "s = input(\"Enter the sentence\")\n",
        "print(s.title())"
      ],
      "metadata": {
        "colab": {
          "base_uri": "https://localhost:8080/"
        },
        "id": "ujOmNwPVVZAm",
        "outputId": "af14475f-d70a-4316-b451-e75661cc12ca"
      },
      "execution_count": null,
      "outputs": [
        {
          "output_type": "stream",
          "name": "stdout",
          "text": [
            "Enter the sentencefsdf dfgf rt sdf\n",
            "Fsdf Dfgf Rt Sdf\n"
          ]
        }
      ]
    },
    {
      "cell_type": "markdown",
      "source": [
        "REplace all spaces with a hypen"
      ],
      "metadata": {
        "id": "uIlz4WcPVsVR"
      }
    },
    {
      "cell_type": "code",
      "source": [
        "s =input(\"eNeter teh string: \")\n",
        "print(s.replace(\" \",\"-\"))"
      ],
      "metadata": {
        "colab": {
          "base_uri": "https://localhost:8080/"
        },
        "id": "JTykhu2cVvm4",
        "outputId": "fe15e9b0-34d1-46ef-a296-dd317b3653f6"
      },
      "execution_count": null,
      "outputs": [
        {
          "output_type": "stream",
          "name": "stdout",
          "text": [
            "eNeter teh string: sfsd sf sf fs34 e354   43f    dfgg\n",
            "sfsd-sf-sf-fs34-e354---43f----dfgg\n"
          ]
        }
      ]
    }
  ]
}